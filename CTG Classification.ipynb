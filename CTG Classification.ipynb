{
 "cells": [
  {
   "cell_type": "code",
   "execution_count": 1,
   "metadata": {},
   "outputs": [],
   "source": [
    "# getting the data\n",
    "# !curl  https://archive.ics.uci.edu/ml/machine-learning-databases/00193/CTG.xls --output CTG.xls"
   ]
  },
  {
   "attachments": {
    "image.png": {
     "image/png": "[encoded data removed]"
    }
   },
   "cell_type": "markdown",
   "metadata": {},
   "source": [
    "**SOURCE**\t\tJ Bernardes, Faculdade de Medicina, Universidade do Porto, Porto, Portugal\n",
    "Reference: D Ayres de Campos et al. (2000) SisPorto 2.0 A Program for Automated Analysis of Cardiotocograms. J Matern Fetal Med 5:311-318\t\t\n",
    "![image.png](attachment:image.png)"
   ]
  },
  {
   "cell_type": "markdown",
   "metadata": {},
   "source": [
    "# First model \n",
    "Trying to run a model as fast as possible and getting a base accuracy"
   ]
  },
  {
   "cell_type": "code",
   "execution_count": 2,
   "metadata": {},
   "outputs": [
    {
     "data": {
      "text/html": [
       "<div>\n",
       "<style scoped>\n",
       "    .dataframe tbody tr th:only-of-type {\n",
       "        vertical-align: middle;\n",
       "    }\n",
       "\n",
       "    .dataframe tbody tr th {\n",
       "        vertical-align: top;\n",
       "    }\n",
       "\n",
       "    .dataframe thead th {\n",
       "        text-align: right;\n",
       "    }\n",
       "</style>\n",
       "<table border=\"1\" class=\"dataframe\">\n",
       "  <thead>\n",
       "    <tr style=\"text-align: right;\">\n",
       "      <th></th>\n",
       "      <th>b</th>\n",
       "      <th>e</th>\n",
       "      <th>AC</th>\n",
       "      <th>FM</th>\n",
       "      <th>UC</th>\n",
       "      <th>DL</th>\n",
       "      <th>DS</th>\n",
       "      <th>DP</th>\n",
       "      <th>DR</th>\n",
       "      <th>Unnamed: 9</th>\n",
       "      <th>...</th>\n",
       "      <th>E</th>\n",
       "      <th>AD</th>\n",
       "      <th>DE</th>\n",
       "      <th>LD</th>\n",
       "      <th>FS</th>\n",
       "      <th>SUSP</th>\n",
       "      <th>Unnamed: 42</th>\n",
       "      <th>CLASS</th>\n",
       "      <th>Unnamed: 44</th>\n",
       "      <th>NSP</th>\n",
       "    </tr>\n",
       "  </thead>\n",
       "  <tbody>\n",
       "    <tr>\n",
       "      <th>0</th>\n",
       "      <td>240.0</td>\n",
       "      <td>357.0</td>\n",
       "      <td>0.0</td>\n",
       "      <td>0.0</td>\n",
       "      <td>0.0</td>\n",
       "      <td>0.0</td>\n",
       "      <td>0.0</td>\n",
       "      <td>0.0</td>\n",
       "      <td>0.0</td>\n",
       "      <td>NaN</td>\n",
       "      <td>...</td>\n",
       "      <td>-1.0</td>\n",
       "      <td>-1.0</td>\n",
       "      <td>-1.0</td>\n",
       "      <td>-1.0</td>\n",
       "      <td>1.0</td>\n",
       "      <td>-1.0</td>\n",
       "      <td>NaN</td>\n",
       "      <td>9.0</td>\n",
       "      <td>NaN</td>\n",
       "      <td>2.0</td>\n",
       "    </tr>\n",
       "    <tr>\n",
       "      <th>1</th>\n",
       "      <td>5.0</td>\n",
       "      <td>632.0</td>\n",
       "      <td>4.0</td>\n",
       "      <td>0.0</td>\n",
       "      <td>4.0</td>\n",
       "      <td>2.0</td>\n",
       "      <td>0.0</td>\n",
       "      <td>0.0</td>\n",
       "      <td>0.0</td>\n",
       "      <td>NaN</td>\n",
       "      <td>...</td>\n",
       "      <td>-1.0</td>\n",
       "      <td>1.0</td>\n",
       "      <td>-1.0</td>\n",
       "      <td>-1.0</td>\n",
       "      <td>-1.0</td>\n",
       "      <td>-1.0</td>\n",
       "      <td>NaN</td>\n",
       "      <td>6.0</td>\n",
       "      <td>NaN</td>\n",
       "      <td>1.0</td>\n",
       "    </tr>\n",
       "    <tr>\n",
       "      <th>2</th>\n",
       "      <td>177.0</td>\n",
       "      <td>779.0</td>\n",
       "      <td>2.0</td>\n",
       "      <td>0.0</td>\n",
       "      <td>5.0</td>\n",
       "      <td>2.0</td>\n",
       "      <td>0.0</td>\n",
       "      <td>0.0</td>\n",
       "      <td>0.0</td>\n",
       "      <td>NaN</td>\n",
       "      <td>...</td>\n",
       "      <td>-1.0</td>\n",
       "      <td>1.0</td>\n",
       "      <td>-1.0</td>\n",
       "      <td>-1.0</td>\n",
       "      <td>-1.0</td>\n",
       "      <td>-1.0</td>\n",
       "      <td>NaN</td>\n",
       "      <td>6.0</td>\n",
       "      <td>NaN</td>\n",
       "      <td>1.0</td>\n",
       "    </tr>\n",
       "    <tr>\n",
       "      <th>3</th>\n",
       "      <td>411.0</td>\n",
       "      <td>1192.0</td>\n",
       "      <td>2.0</td>\n",
       "      <td>0.0</td>\n",
       "      <td>6.0</td>\n",
       "      <td>2.0</td>\n",
       "      <td>0.0</td>\n",
       "      <td>0.0</td>\n",
       "      <td>0.0</td>\n",
       "      <td>NaN</td>\n",
       "      <td>...</td>\n",
       "      <td>-1.0</td>\n",
       "      <td>1.0</td>\n",
       "      <td>-1.0</td>\n",
       "      <td>-1.0</td>\n",
       "      <td>-1.0</td>\n",
       "      <td>-1.0</td>\n",
       "      <td>NaN</td>\n",
       "      <td>6.0</td>\n",
       "      <td>NaN</td>\n",
       "      <td>1.0</td>\n",
       "    </tr>\n",
       "    <tr>\n",
       "      <th>4</th>\n",
       "      <td>533.0</td>\n",
       "      <td>1147.0</td>\n",
       "      <td>4.0</td>\n",
       "      <td>0.0</td>\n",
       "      <td>5.0</td>\n",
       "      <td>0.0</td>\n",
       "      <td>0.0</td>\n",
       "      <td>0.0</td>\n",
       "      <td>0.0</td>\n",
       "      <td>NaN</td>\n",
       "      <td>...</td>\n",
       "      <td>-1.0</td>\n",
       "      <td>-1.0</td>\n",
       "      <td>-1.0</td>\n",
       "      <td>-1.0</td>\n",
       "      <td>-1.0</td>\n",
       "      <td>-1.0</td>\n",
       "      <td>NaN</td>\n",
       "      <td>2.0</td>\n",
       "      <td>NaN</td>\n",
       "      <td>1.0</td>\n",
       "    </tr>\n",
       "  </tbody>\n",
       "</table>\n",
       "<p>5 rows × 46 columns</p>\n",
       "</div>"
      ],
      "text/plain": [
       "       b       e   AC   FM   UC   DL   DS   DP   DR  Unnamed: 9  ...    E  \\\n",
       "0  240.0   357.0  0.0  0.0  0.0  0.0  0.0  0.0  0.0         NaN  ... -1.0   \n",
       "1    5.0   632.0  4.0  0.0  4.0  2.0  0.0  0.0  0.0         NaN  ... -1.0   \n",
       "2  177.0   779.0  2.0  0.0  5.0  2.0  0.0  0.0  0.0         NaN  ... -1.0   \n",
       "3  411.0  1192.0  2.0  0.0  6.0  2.0  0.0  0.0  0.0         NaN  ... -1.0   \n",
       "4  533.0  1147.0  4.0  0.0  5.0  0.0  0.0  0.0  0.0         NaN  ... -1.0   \n",
       "\n",
       "    AD   DE   LD   FS  SUSP  Unnamed: 42  CLASS  Unnamed: 44  NSP  \n",
       "0 -1.0 -1.0 -1.0  1.0  -1.0          NaN    9.0          NaN  2.0  \n",
       "1  1.0 -1.0 -1.0 -1.0  -1.0          NaN    6.0          NaN  1.0  \n",
       "2  1.0 -1.0 -1.0 -1.0  -1.0          NaN    6.0          NaN  1.0  \n",
       "3  1.0 -1.0 -1.0 -1.0  -1.0          NaN    6.0          NaN  1.0  \n",
       "4 -1.0 -1.0 -1.0 -1.0  -1.0          NaN    2.0          NaN  1.0  \n",
       "\n",
       "[5 rows x 46 columns]"
      ]
     },
     "execution_count": 2,
     "metadata": {},
     "output_type": "execute_result"
    }
   ],
   "source": [
    "import pandas as pd\n",
    "from sklearn.metrics import confusion_matrix, balanced_accuracy_score\n",
    "\n",
    "xls = pd.ExcelFile('CTG.xls')\n",
    "df = pd.read_excel(xls, 'Data', header=1)\n",
    "df.head()"
   ]
  },
  {
   "cell_type": "code",
   "execution_count": 3,
   "metadata": {
    "scrolled": true
   },
   "outputs": [
    {
     "data": {
      "text/plain": [
       "Index(['b', 'e', 'AC', 'FM', 'UC', 'DL', 'DS', 'DP', 'DR', 'Unnamed: 9', 'LB',\n",
       "       'AC.1', 'FM.1', 'UC.1', 'DL.1', 'DS.1', 'DP.1', 'ASTV', 'MSTV', 'ALTV',\n",
       "       'MLTV', 'Width', 'Min', 'Max', 'Nmax', 'Nzeros', 'Mode', 'Mean',\n",
       "       'Median', 'Variance', 'Tendency', 'Unnamed: 31', 'A', 'B', 'C', 'D',\n",
       "       'E', 'AD', 'DE', 'LD', 'FS', 'SUSP', 'Unnamed: 42', 'CLASS',\n",
       "       'Unnamed: 44', 'NSP'],\n",
       "      dtype='object')"
      ]
     },
     "execution_count": 3,
     "metadata": {},
     "output_type": "execute_result"
    }
   ],
   "source": [
    "df.columns"
   ]
  },
  {
   "cell_type": "code",
   "execution_count": 4,
   "metadata": {},
   "outputs": [],
   "source": [
    "three_classes = ['NSP'] # 1, 2, 3\n",
    "ten_classes = 'A, B, C, D, E, AD, DE, LD, FS, SUSP'.split(', ')"
   ]
  },
  {
   "cell_type": "code",
   "execution_count": 5,
   "metadata": {
    "scrolled": true
   },
   "outputs": [
    {
     "data": {
      "text/plain": [
       "['A', 'B', 'C', 'D', 'E', 'AD', 'DE', 'LD', 'FS', 'SUSP']"
      ]
     },
     "execution_count": 5,
     "metadata": {},
     "output_type": "execute_result"
    }
   ],
   "source": [
    "ten_classes"
   ]
  },
  {
   "cell_type": "code",
   "execution_count": 6,
   "metadata": {},
   "outputs": [
    {
     "data": {
      "text/plain": [
       "4"
      ]
     },
     "execution_count": 6,
     "metadata": {},
     "output_type": "execute_result"
    }
   ],
   "source": [
    "# the number of unnamed columns (empty ones in the excel sheet)\n",
    "len([x for x in df.columns if 'Unnamed' in x])"
   ]
  },
  {
   "cell_type": "code",
   "execution_count": 7,
   "metadata": {},
   "outputs": [
    {
     "name": "stdout",
     "output_type": "stream",
     "text": [
      "Droped ['Unnamed: 9', 'Unnamed: 31', 'Unnamed: 42', 'Unnamed: 44']\n"
     ]
    }
   ],
   "source": [
    "# drop unnamed columns\n",
    "unnamed = [x for x in df.columns if 'Unnamed' in x]\n",
    "df.drop(unnamed, axis=1, inplace=True)\n",
    "\n",
    "print(f\"Droped {unnamed}\")"
   ]
  },
  {
   "cell_type": "code",
   "execution_count": 8,
   "metadata": {},
   "outputs": [
    {
     "data": {
      "text/html": [
       "<div>\n",
       "<style scoped>\n",
       "    .dataframe tbody tr th:only-of-type {\n",
       "        vertical-align: middle;\n",
       "    }\n",
       "\n",
       "    .dataframe tbody tr th {\n",
       "        vertical-align: top;\n",
       "    }\n",
       "\n",
       "    .dataframe thead th {\n",
       "        text-align: right;\n",
       "    }\n",
       "</style>\n",
       "<table border=\"1\" class=\"dataframe\">\n",
       "  <thead>\n",
       "    <tr style=\"text-align: right;\">\n",
       "      <th></th>\n",
       "      <th>b</th>\n",
       "      <th>e</th>\n",
       "      <th>AC</th>\n",
       "      <th>FM</th>\n",
       "      <th>UC</th>\n",
       "      <th>DL</th>\n",
       "      <th>DS</th>\n",
       "      <th>DP</th>\n",
       "      <th>DR</th>\n",
       "      <th>LB</th>\n",
       "      <th>...</th>\n",
       "      <th>C</th>\n",
       "      <th>D</th>\n",
       "      <th>E</th>\n",
       "      <th>AD</th>\n",
       "      <th>DE</th>\n",
       "      <th>LD</th>\n",
       "      <th>FS</th>\n",
       "      <th>SUSP</th>\n",
       "      <th>CLASS</th>\n",
       "      <th>NSP</th>\n",
       "    </tr>\n",
       "  </thead>\n",
       "  <tbody>\n",
       "    <tr>\n",
       "      <th>0</th>\n",
       "      <td>240.0</td>\n",
       "      <td>357.0</td>\n",
       "      <td>0.0</td>\n",
       "      <td>0.0</td>\n",
       "      <td>0.0</td>\n",
       "      <td>0.0</td>\n",
       "      <td>0.0</td>\n",
       "      <td>0.0</td>\n",
       "      <td>0.0</td>\n",
       "      <td>120.0</td>\n",
       "      <td>...</td>\n",
       "      <td>-1.0</td>\n",
       "      <td>-1.0</td>\n",
       "      <td>-1.0</td>\n",
       "      <td>-1.0</td>\n",
       "      <td>-1.0</td>\n",
       "      <td>-1.0</td>\n",
       "      <td>1.0</td>\n",
       "      <td>-1.0</td>\n",
       "      <td>9.0</td>\n",
       "      <td>2.0</td>\n",
       "    </tr>\n",
       "    <tr>\n",
       "      <th>1</th>\n",
       "      <td>5.0</td>\n",
       "      <td>632.0</td>\n",
       "      <td>4.0</td>\n",
       "      <td>0.0</td>\n",
       "      <td>4.0</td>\n",
       "      <td>2.0</td>\n",
       "      <td>0.0</td>\n",
       "      <td>0.0</td>\n",
       "      <td>0.0</td>\n",
       "      <td>132.0</td>\n",
       "      <td>...</td>\n",
       "      <td>-1.0</td>\n",
       "      <td>-1.0</td>\n",
       "      <td>-1.0</td>\n",
       "      <td>1.0</td>\n",
       "      <td>-1.0</td>\n",
       "      <td>-1.0</td>\n",
       "      <td>-1.0</td>\n",
       "      <td>-1.0</td>\n",
       "      <td>6.0</td>\n",
       "      <td>1.0</td>\n",
       "    </tr>\n",
       "    <tr>\n",
       "      <th>2</th>\n",
       "      <td>177.0</td>\n",
       "      <td>779.0</td>\n",
       "      <td>2.0</td>\n",
       "      <td>0.0</td>\n",
       "      <td>5.0</td>\n",
       "      <td>2.0</td>\n",
       "      <td>0.0</td>\n",
       "      <td>0.0</td>\n",
       "      <td>0.0</td>\n",
       "      <td>133.0</td>\n",
       "      <td>...</td>\n",
       "      <td>-1.0</td>\n",
       "      <td>-1.0</td>\n",
       "      <td>-1.0</td>\n",
       "      <td>1.0</td>\n",
       "      <td>-1.0</td>\n",
       "      <td>-1.0</td>\n",
       "      <td>-1.0</td>\n",
       "      <td>-1.0</td>\n",
       "      <td>6.0</td>\n",
       "      <td>1.0</td>\n",
       "    </tr>\n",
       "    <tr>\n",
       "      <th>3</th>\n",
       "      <td>411.0</td>\n",
       "      <td>1192.0</td>\n",
       "      <td>2.0</td>\n",
       "      <td>0.0</td>\n",
       "      <td>6.0</td>\n",
       "      <td>2.0</td>\n",
       "      <td>0.0</td>\n",
       "      <td>0.0</td>\n",
       "      <td>0.0</td>\n",
       "      <td>134.0</td>\n",
       "      <td>...</td>\n",
       "      <td>-1.0</td>\n",
       "      <td>-1.0</td>\n",
       "      <td>-1.0</td>\n",
       "      <td>1.0</td>\n",
       "      <td>-1.0</td>\n",
       "      <td>-1.0</td>\n",
       "      <td>-1.0</td>\n",
       "      <td>-1.0</td>\n",
       "      <td>6.0</td>\n",
       "      <td>1.0</td>\n",
       "    </tr>\n",
       "    <tr>\n",
       "      <th>4</th>\n",
       "      <td>533.0</td>\n",
       "      <td>1147.0</td>\n",
       "      <td>4.0</td>\n",
       "      <td>0.0</td>\n",
       "      <td>5.0</td>\n",
       "      <td>0.0</td>\n",
       "      <td>0.0</td>\n",
       "      <td>0.0</td>\n",
       "      <td>0.0</td>\n",
       "      <td>132.0</td>\n",
       "      <td>...</td>\n",
       "      <td>-1.0</td>\n",
       "      <td>-1.0</td>\n",
       "      <td>-1.0</td>\n",
       "      <td>-1.0</td>\n",
       "      <td>-1.0</td>\n",
       "      <td>-1.0</td>\n",
       "      <td>-1.0</td>\n",
       "      <td>-1.0</td>\n",
       "      <td>2.0</td>\n",
       "      <td>1.0</td>\n",
       "    </tr>\n",
       "  </tbody>\n",
       "</table>\n",
       "<p>5 rows × 42 columns</p>\n",
       "</div>"
      ],
      "text/plain": [
       "       b       e   AC   FM   UC   DL   DS   DP   DR     LB  ...    C    D  \\\n",
       "0  240.0   357.0  0.0  0.0  0.0  0.0  0.0  0.0  0.0  120.0  ... -1.0 -1.0   \n",
       "1    5.0   632.0  4.0  0.0  4.0  2.0  0.0  0.0  0.0  132.0  ... -1.0 -1.0   \n",
       "2  177.0   779.0  2.0  0.0  5.0  2.0  0.0  0.0  0.0  133.0  ... -1.0 -1.0   \n",
       "3  411.0  1192.0  2.0  0.0  6.0  2.0  0.0  0.0  0.0  134.0  ... -1.0 -1.0   \n",
       "4  533.0  1147.0  4.0  0.0  5.0  0.0  0.0  0.0  0.0  132.0  ... -1.0 -1.0   \n",
       "\n",
       "     E   AD   DE   LD   FS  SUSP  CLASS  NSP  \n",
       "0 -1.0 -1.0 -1.0 -1.0  1.0  -1.0    9.0  2.0  \n",
       "1 -1.0  1.0 -1.0 -1.0 -1.0  -1.0    6.0  1.0  \n",
       "2 -1.0  1.0 -1.0 -1.0 -1.0  -1.0    6.0  1.0  \n",
       "3 -1.0  1.0 -1.0 -1.0 -1.0  -1.0    6.0  1.0  \n",
       "4 -1.0 -1.0 -1.0 -1.0 -1.0  -1.0    2.0  1.0  \n",
       "\n",
       "[5 rows x 42 columns]"
      ]
     },
     "execution_count": 8,
     "metadata": {},
     "output_type": "execute_result"
    }
   ],
   "source": [
    "df.head()"
   ]
  },
  {
   "cell_type": "code",
   "execution_count": 9,
   "metadata": {},
   "outputs": [
    {
     "data": {
      "text/plain": [
       "b           3\n",
       "e           3\n",
       "AC          3\n",
       "FM          2\n",
       "UC          2\n",
       "DL          1\n",
       "DS          1\n",
       "DP          1\n",
       "DR          1\n",
       "LB          3\n",
       "AC.1        3\n",
       "FM.1        2\n",
       "UC.1        2\n",
       "DL.1        1\n",
       "DS.1        1\n",
       "DP.1        1\n",
       "ASTV        2\n",
       "MSTV        2\n",
       "ALTV        2\n",
       "MLTV        2\n",
       "Width       3\n",
       "Min         3\n",
       "Max         3\n",
       "Nmax        3\n",
       "Nzeros      3\n",
       "Mode        3\n",
       "Mean        3\n",
       "Median      3\n",
       "Variance    3\n",
       "Tendency    3\n",
       "A           2\n",
       "B           2\n",
       "C           2\n",
       "D           2\n",
       "E           2\n",
       "AD          2\n",
       "DE          2\n",
       "LD          2\n",
       "FS          2\n",
       "SUSP        2\n",
       "CLASS       3\n",
       "NSP         3\n",
       "dtype: int64"
      ]
     },
     "execution_count": 9,
     "metadata": {},
     "output_type": "execute_result"
    }
   ],
   "source": [
    "df.isnull().sum()"
   ]
  },
  {
   "cell_type": "code",
   "execution_count": 10,
   "metadata": {},
   "outputs": [],
   "source": [
    "# drop null rows\n",
    "df.dropna(axis=0, inplace=True)"
   ]
  },
  {
   "cell_type": "code",
   "execution_count": 11,
   "metadata": {},
   "outputs": [
    {
     "data": {
      "text/plain": [
       "b           0\n",
       "e           0\n",
       "AC          0\n",
       "FM          0\n",
       "UC          0\n",
       "DL          0\n",
       "DS          0\n",
       "DP          0\n",
       "DR          0\n",
       "LB          0\n",
       "AC.1        0\n",
       "FM.1        0\n",
       "UC.1        0\n",
       "DL.1        0\n",
       "DS.1        0\n",
       "DP.1        0\n",
       "ASTV        0\n",
       "MSTV        0\n",
       "ALTV        0\n",
       "MLTV        0\n",
       "Width       0\n",
       "Min         0\n",
       "Max         0\n",
       "Nmax        0\n",
       "Nzeros      0\n",
       "Mode        0\n",
       "Mean        0\n",
       "Median      0\n",
       "Variance    0\n",
       "Tendency    0\n",
       "A           0\n",
       "B           0\n",
       "C           0\n",
       "D           0\n",
       "E           0\n",
       "AD          0\n",
       "DE          0\n",
       "LD          0\n",
       "FS          0\n",
       "SUSP        0\n",
       "CLASS       0\n",
       "NSP         0\n",
       "dtype: int64"
      ]
     },
     "execution_count": 11,
     "metadata": {},
     "output_type": "execute_result"
    }
   ],
   "source": [
    "df.isna().sum()"
   ]
  },
  {
   "cell_type": "code",
   "execution_count": 12,
   "metadata": {},
   "outputs": [
    {
     "data": {
      "text/html": [
       "<div>\n",
       "<style scoped>\n",
       "    .dataframe tbody tr th:only-of-type {\n",
       "        vertical-align: middle;\n",
       "    }\n",
       "\n",
       "    .dataframe tbody tr th {\n",
       "        vertical-align: top;\n",
       "    }\n",
       "\n",
       "    .dataframe thead th {\n",
       "        text-align: right;\n",
       "    }\n",
       "</style>\n",
       "<table border=\"1\" class=\"dataframe\">\n",
       "  <thead>\n",
       "    <tr style=\"text-align: right;\">\n",
       "      <th></th>\n",
       "      <th>b</th>\n",
       "      <th>e</th>\n",
       "      <th>AC</th>\n",
       "      <th>FM</th>\n",
       "      <th>UC</th>\n",
       "      <th>DL</th>\n",
       "      <th>DS</th>\n",
       "      <th>DP</th>\n",
       "      <th>DR</th>\n",
       "      <th>LB</th>\n",
       "      <th>...</th>\n",
       "      <th>C</th>\n",
       "      <th>D</th>\n",
       "      <th>E</th>\n",
       "      <th>AD</th>\n",
       "      <th>DE</th>\n",
       "      <th>LD</th>\n",
       "      <th>FS</th>\n",
       "      <th>SUSP</th>\n",
       "      <th>CLASS</th>\n",
       "      <th>NSP</th>\n",
       "    </tr>\n",
       "  </thead>\n",
       "  <tbody>\n",
       "    <tr>\n",
       "      <th>count</th>\n",
       "      <td>2126.000000</td>\n",
       "      <td>2126.000000</td>\n",
       "      <td>2126.000000</td>\n",
       "      <td>2126.000000</td>\n",
       "      <td>2126.000000</td>\n",
       "      <td>2126.000000</td>\n",
       "      <td>2126.000000</td>\n",
       "      <td>2126.000000</td>\n",
       "      <td>2126.0</td>\n",
       "      <td>2126.000000</td>\n",
       "      <td>...</td>\n",
       "      <td>2126.000000</td>\n",
       "      <td>2126.000000</td>\n",
       "      <td>2126.000000</td>\n",
       "      <td>2126.000000</td>\n",
       "      <td>2126.000000</td>\n",
       "      <td>2126.000000</td>\n",
       "      <td>2126.000000</td>\n",
       "      <td>2126.000000</td>\n",
       "      <td>2126.000000</td>\n",
       "      <td>2126.000000</td>\n",
       "    </tr>\n",
       "    <tr>\n",
       "      <th>mean</th>\n",
       "      <td>878.439793</td>\n",
       "      <td>1702.877234</td>\n",
       "      <td>2.722484</td>\n",
       "      <td>7.241298</td>\n",
       "      <td>3.659925</td>\n",
       "      <td>1.570085</td>\n",
       "      <td>0.003293</td>\n",
       "      <td>0.126058</td>\n",
       "      <td>0.0</td>\n",
       "      <td>133.303857</td>\n",
       "      <td>...</td>\n",
       "      <td>-0.950141</td>\n",
       "      <td>-0.923801</td>\n",
       "      <td>-0.932267</td>\n",
       "      <td>-0.687676</td>\n",
       "      <td>-0.762935</td>\n",
       "      <td>-0.899341</td>\n",
       "      <td>-0.935089</td>\n",
       "      <td>-0.814675</td>\n",
       "      <td>4.509878</td>\n",
       "      <td>1.304327</td>\n",
       "    </tr>\n",
       "    <tr>\n",
       "      <th>std</th>\n",
       "      <td>894.084748</td>\n",
       "      <td>930.919143</td>\n",
       "      <td>3.560850</td>\n",
       "      <td>37.125309</td>\n",
       "      <td>2.847094</td>\n",
       "      <td>2.499229</td>\n",
       "      <td>0.057300</td>\n",
       "      <td>0.464361</td>\n",
       "      <td>0.0</td>\n",
       "      <td>9.840844</td>\n",
       "      <td>...</td>\n",
       "      <td>0.311894</td>\n",
       "      <td>0.382964</td>\n",
       "      <td>0.361856</td>\n",
       "      <td>0.726188</td>\n",
       "      <td>0.646627</td>\n",
       "      <td>0.437350</td>\n",
       "      <td>0.354495</td>\n",
       "      <td>0.580054</td>\n",
       "      <td>3.026883</td>\n",
       "      <td>0.614377</td>\n",
       "    </tr>\n",
       "    <tr>\n",
       "      <th>min</th>\n",
       "      <td>0.000000</td>\n",
       "      <td>287.000000</td>\n",
       "      <td>0.000000</td>\n",
       "      <td>0.000000</td>\n",
       "      <td>0.000000</td>\n",
       "      <td>0.000000</td>\n",
       "      <td>0.000000</td>\n",
       "      <td>0.000000</td>\n",
       "      <td>0.0</td>\n",
       "      <td>106.000000</td>\n",
       "      <td>...</td>\n",
       "      <td>-1.000000</td>\n",
       "      <td>-1.000000</td>\n",
       "      <td>-1.000000</td>\n",
       "      <td>-1.000000</td>\n",
       "      <td>-1.000000</td>\n",
       "      <td>-1.000000</td>\n",
       "      <td>-1.000000</td>\n",
       "      <td>-1.000000</td>\n",
       "      <td>1.000000</td>\n",
       "      <td>1.000000</td>\n",
       "    </tr>\n",
       "    <tr>\n",
       "      <th>25%</th>\n",
       "      <td>55.000000</td>\n",
       "      <td>1009.000000</td>\n",
       "      <td>0.000000</td>\n",
       "      <td>0.000000</td>\n",
       "      <td>1.000000</td>\n",
       "      <td>0.000000</td>\n",
       "      <td>0.000000</td>\n",
       "      <td>0.000000</td>\n",
       "      <td>0.0</td>\n",
       "      <td>126.000000</td>\n",
       "      <td>...</td>\n",
       "      <td>-1.000000</td>\n",
       "      <td>-1.000000</td>\n",
       "      <td>-1.000000</td>\n",
       "      <td>-1.000000</td>\n",
       "      <td>-1.000000</td>\n",
       "      <td>-1.000000</td>\n",
       "      <td>-1.000000</td>\n",
       "      <td>-1.000000</td>\n",
       "      <td>2.000000</td>\n",
       "      <td>1.000000</td>\n",
       "    </tr>\n",
       "    <tr>\n",
       "      <th>50%</th>\n",
       "      <td>538.000000</td>\n",
       "      <td>1241.000000</td>\n",
       "      <td>1.000000</td>\n",
       "      <td>0.000000</td>\n",
       "      <td>3.000000</td>\n",
       "      <td>0.000000</td>\n",
       "      <td>0.000000</td>\n",
       "      <td>0.000000</td>\n",
       "      <td>0.0</td>\n",
       "      <td>133.000000</td>\n",
       "      <td>...</td>\n",
       "      <td>-1.000000</td>\n",
       "      <td>-1.000000</td>\n",
       "      <td>-1.000000</td>\n",
       "      <td>-1.000000</td>\n",
       "      <td>-1.000000</td>\n",
       "      <td>-1.000000</td>\n",
       "      <td>-1.000000</td>\n",
       "      <td>-1.000000</td>\n",
       "      <td>4.000000</td>\n",
       "      <td>1.000000</td>\n",
       "    </tr>\n",
       "    <tr>\n",
       "      <th>75%</th>\n",
       "      <td>1521.000000</td>\n",
       "      <td>2434.750000</td>\n",
       "      <td>4.000000</td>\n",
       "      <td>2.000000</td>\n",
       "      <td>5.000000</td>\n",
       "      <td>3.000000</td>\n",
       "      <td>0.000000</td>\n",
       "      <td>0.000000</td>\n",
       "      <td>0.0</td>\n",
       "      <td>140.000000</td>\n",
       "      <td>...</td>\n",
       "      <td>-1.000000</td>\n",
       "      <td>-1.000000</td>\n",
       "      <td>-1.000000</td>\n",
       "      <td>-1.000000</td>\n",
       "      <td>-1.000000</td>\n",
       "      <td>-1.000000</td>\n",
       "      <td>-1.000000</td>\n",
       "      <td>-1.000000</td>\n",
       "      <td>7.000000</td>\n",
       "      <td>1.000000</td>\n",
       "    </tr>\n",
       "    <tr>\n",
       "      <th>max</th>\n",
       "      <td>3296.000000</td>\n",
       "      <td>3599.000000</td>\n",
       "      <td>26.000000</td>\n",
       "      <td>564.000000</td>\n",
       "      <td>23.000000</td>\n",
       "      <td>16.000000</td>\n",
       "      <td>1.000000</td>\n",
       "      <td>4.000000</td>\n",
       "      <td>0.0</td>\n",
       "      <td>160.000000</td>\n",
       "      <td>...</td>\n",
       "      <td>1.000000</td>\n",
       "      <td>1.000000</td>\n",
       "      <td>1.000000</td>\n",
       "      <td>1.000000</td>\n",
       "      <td>1.000000</td>\n",
       "      <td>1.000000</td>\n",
       "      <td>1.000000</td>\n",
       "      <td>1.000000</td>\n",
       "      <td>10.000000</td>\n",
       "      <td>3.000000</td>\n",
       "    </tr>\n",
       "  </tbody>\n",
       "</table>\n",
       "<p>8 rows × 42 columns</p>\n",
       "</div>"
      ],
      "text/plain": [
       "                 b            e           AC           FM           UC  \\\n",
       "count  2126.000000  2126.000000  2126.000000  2126.000000  2126.000000   \n",
       "mean    878.439793  1702.877234     2.722484     7.241298     3.659925   \n",
       "std     894.084748   930.919143     3.560850    37.125309     2.847094   \n",
       "min       0.000000   287.000000     0.000000     0.000000     0.000000   \n",
       "25%      55.000000  1009.000000     0.000000     0.000000     1.000000   \n",
       "50%     538.000000  1241.000000     1.000000     0.000000     3.000000   \n",
       "75%    1521.000000  2434.750000     4.000000     2.000000     5.000000   \n",
       "max    3296.000000  3599.000000    26.000000   564.000000    23.000000   \n",
       "\n",
       "                DL           DS           DP      DR           LB  ...  \\\n",
       "count  2126.000000  2126.000000  2126.000000  2126.0  2126.000000  ...   \n",
       "mean      1.570085     0.003293     0.126058     0.0   133.303857  ...   \n",
       "std       2.499229     0.057300     0.464361     0.0     9.840844  ...   \n",
       "min       0.000000     0.000000     0.000000     0.0   106.000000  ...   \n",
       "25%       0.000000     0.000000     0.000000     0.0   126.000000  ...   \n",
       "50%       0.000000     0.000000     0.000000     0.0   133.000000  ...   \n",
       "75%       3.000000     0.000000     0.000000     0.0   140.000000  ...   \n",
       "max      16.000000     1.000000     4.000000     0.0   160.000000  ...   \n",
       "\n",
       "                 C            D            E           AD           DE  \\\n",
       "count  2126.000000  2126.000000  2126.000000  2126.000000  2126.000000   \n",
       "mean     -0.950141    -0.923801    -0.932267    -0.687676    -0.762935   \n",
       "std       0.311894     0.382964     0.361856     0.726188     0.646627   \n",
       "min      -1.000000    -1.000000    -1.000000    -1.000000    -1.000000   \n",
       "25%      -1.000000    -1.000000    -1.000000    -1.000000    -1.000000   \n",
       "50%      -1.000000    -1.000000    -1.000000    -1.000000    -1.000000   \n",
       "75%      -1.000000    -1.000000    -1.000000    -1.000000    -1.000000   \n",
       "max       1.000000     1.000000     1.000000     1.000000     1.000000   \n",
       "\n",
       "                LD           FS         SUSP        CLASS          NSP  \n",
       "count  2126.000000  2126.000000  2126.000000  2126.000000  2126.000000  \n",
       "mean     -0.899341    -0.935089    -0.814675     4.509878     1.304327  \n",
       "std       0.437350     0.354495     0.580054     3.026883     0.614377  \n",
       "min      -1.000000    -1.000000    -1.000000     1.000000     1.000000  \n",
       "25%      -1.000000    -1.000000    -1.000000     2.000000     1.000000  \n",
       "50%      -1.000000    -1.000000    -1.000000     4.000000     1.000000  \n",
       "75%      -1.000000    -1.000000    -1.000000     7.000000     1.000000  \n",
       "max       1.000000     1.000000     1.000000    10.000000     3.000000  \n",
       "\n",
       "[8 rows x 42 columns]"
      ]
     },
     "execution_count": 12,
     "metadata": {},
     "output_type": "execute_result"
    }
   ],
   "source": [
    "df.describe()"
   ]
  },
  {
   "cell_type": "code",
   "execution_count": 13,
   "metadata": {},
   "outputs": [],
   "source": [
    "# drop 10 classes columns and target\n",
    "df.drop(ten_classes, axis=1, inplace=True)\n",
    "df.drop(['CLASS'], axis=1, inplace=True)"
   ]
  },
  {
   "cell_type": "code",
   "execution_count": 14,
   "metadata": {},
   "outputs": [
    {
     "data": {
      "text/plain": [
       "Index(['b', 'e', 'AC', 'FM', 'UC', 'DL', 'DS', 'DP', 'DR'], dtype='object')"
      ]
     },
     "execution_count": 14,
     "metadata": {},
     "output_type": "execute_result"
    }
   ],
   "source": [
    "# drop b,e and old features\n",
    "old_features = df.columns[:9]\n",
    "df.drop(old_features, axis=1, inplace=True)\n",
    "old_features"
   ]
  },
  {
   "cell_type": "code",
   "execution_count": 15,
   "metadata": {},
   "outputs": [
    {
     "data": {
      "text/plain": [
       "LB          float64\n",
       "AC.1        float64\n",
       "FM.1        float64\n",
       "UC.1        float64\n",
       "DL.1        float64\n",
       "DS.1        float64\n",
       "DP.1        float64\n",
       "ASTV        float64\n",
       "MSTV        float64\n",
       "ALTV        float64\n",
       "MLTV        float64\n",
       "Width       float64\n",
       "Min         float64\n",
       "Max         float64\n",
       "Nmax        float64\n",
       "Nzeros      float64\n",
       "Mode        float64\n",
       "Mean        float64\n",
       "Median      float64\n",
       "Variance    float64\n",
       "Tendency    float64\n",
       "NSP         float64\n",
       "dtype: object"
      ]
     },
     "execution_count": 15,
     "metadata": {},
     "output_type": "execute_result"
    }
   ],
   "source": [
    "df.dtypes"
   ]
  },
  {
   "cell_type": "code",
   "execution_count": 16,
   "metadata": {},
   "outputs": [
    {
     "data": {
      "text/html": [
       "<div>\n",
       "<style scoped>\n",
       "    .dataframe tbody tr th:only-of-type {\n",
       "        vertical-align: middle;\n",
       "    }\n",
       "\n",
       "    .dataframe tbody tr th {\n",
       "        vertical-align: top;\n",
       "    }\n",
       "\n",
       "    .dataframe thead th {\n",
       "        text-align: right;\n",
       "    }\n",
       "</style>\n",
       "<table border=\"1\" class=\"dataframe\">\n",
       "  <thead>\n",
       "    <tr style=\"text-align: right;\">\n",
       "      <th></th>\n",
       "      <th>LB</th>\n",
       "      <th>AC.1</th>\n",
       "      <th>FM.1</th>\n",
       "      <th>UC.1</th>\n",
       "      <th>DL.1</th>\n",
       "      <th>DS.1</th>\n",
       "      <th>DP.1</th>\n",
       "      <th>ASTV</th>\n",
       "      <th>MSTV</th>\n",
       "      <th>ALTV</th>\n",
       "      <th>...</th>\n",
       "      <th>Width</th>\n",
       "      <th>Min</th>\n",
       "      <th>Max</th>\n",
       "      <th>Nmax</th>\n",
       "      <th>Nzeros</th>\n",
       "      <th>Mode</th>\n",
       "      <th>Mean</th>\n",
       "      <th>Median</th>\n",
       "      <th>Variance</th>\n",
       "      <th>Tendency</th>\n",
       "    </tr>\n",
       "  </thead>\n",
       "  <tbody>\n",
       "    <tr>\n",
       "      <th>0</th>\n",
       "      <td>120.0</td>\n",
       "      <td>0.000000</td>\n",
       "      <td>0.000000</td>\n",
       "      <td>0.000000</td>\n",
       "      <td>0.000000</td>\n",
       "      <td>0.0</td>\n",
       "      <td>0.0</td>\n",
       "      <td>73.0</td>\n",
       "      <td>0.5</td>\n",
       "      <td>43.0</td>\n",
       "      <td>...</td>\n",
       "      <td>64.0</td>\n",
       "      <td>62.0</td>\n",
       "      <td>126.0</td>\n",
       "      <td>2.0</td>\n",
       "      <td>0.0</td>\n",
       "      <td>120.0</td>\n",
       "      <td>137.0</td>\n",
       "      <td>121.0</td>\n",
       "      <td>73.0</td>\n",
       "      <td>1.0</td>\n",
       "    </tr>\n",
       "    <tr>\n",
       "      <th>1</th>\n",
       "      <td>132.0</td>\n",
       "      <td>0.006380</td>\n",
       "      <td>0.000000</td>\n",
       "      <td>0.006380</td>\n",
       "      <td>0.003190</td>\n",
       "      <td>0.0</td>\n",
       "      <td>0.0</td>\n",
       "      <td>17.0</td>\n",
       "      <td>2.1</td>\n",
       "      <td>0.0</td>\n",
       "      <td>...</td>\n",
       "      <td>130.0</td>\n",
       "      <td>68.0</td>\n",
       "      <td>198.0</td>\n",
       "      <td>6.0</td>\n",
       "      <td>1.0</td>\n",
       "      <td>141.0</td>\n",
       "      <td>136.0</td>\n",
       "      <td>140.0</td>\n",
       "      <td>12.0</td>\n",
       "      <td>0.0</td>\n",
       "    </tr>\n",
       "    <tr>\n",
       "      <th>2</th>\n",
       "      <td>133.0</td>\n",
       "      <td>0.003322</td>\n",
       "      <td>0.000000</td>\n",
       "      <td>0.008306</td>\n",
       "      <td>0.003322</td>\n",
       "      <td>0.0</td>\n",
       "      <td>0.0</td>\n",
       "      <td>16.0</td>\n",
       "      <td>2.1</td>\n",
       "      <td>0.0</td>\n",
       "      <td>...</td>\n",
       "      <td>130.0</td>\n",
       "      <td>68.0</td>\n",
       "      <td>198.0</td>\n",
       "      <td>5.0</td>\n",
       "      <td>1.0</td>\n",
       "      <td>141.0</td>\n",
       "      <td>135.0</td>\n",
       "      <td>138.0</td>\n",
       "      <td>13.0</td>\n",
       "      <td>0.0</td>\n",
       "    </tr>\n",
       "    <tr>\n",
       "      <th>3</th>\n",
       "      <td>134.0</td>\n",
       "      <td>0.002561</td>\n",
       "      <td>0.000000</td>\n",
       "      <td>0.007682</td>\n",
       "      <td>0.002561</td>\n",
       "      <td>0.0</td>\n",
       "      <td>0.0</td>\n",
       "      <td>16.0</td>\n",
       "      <td>2.4</td>\n",
       "      <td>0.0</td>\n",
       "      <td>...</td>\n",
       "      <td>117.0</td>\n",
       "      <td>53.0</td>\n",
       "      <td>170.0</td>\n",
       "      <td>11.0</td>\n",
       "      <td>0.0</td>\n",
       "      <td>137.0</td>\n",
       "      <td>134.0</td>\n",
       "      <td>137.0</td>\n",
       "      <td>13.0</td>\n",
       "      <td>1.0</td>\n",
       "    </tr>\n",
       "    <tr>\n",
       "      <th>4</th>\n",
       "      <td>132.0</td>\n",
       "      <td>0.006515</td>\n",
       "      <td>0.000000</td>\n",
       "      <td>0.008143</td>\n",
       "      <td>0.000000</td>\n",
       "      <td>0.0</td>\n",
       "      <td>0.0</td>\n",
       "      <td>16.0</td>\n",
       "      <td>2.4</td>\n",
       "      <td>0.0</td>\n",
       "      <td>...</td>\n",
       "      <td>117.0</td>\n",
       "      <td>53.0</td>\n",
       "      <td>170.0</td>\n",
       "      <td>9.0</td>\n",
       "      <td>0.0</td>\n",
       "      <td>137.0</td>\n",
       "      <td>136.0</td>\n",
       "      <td>138.0</td>\n",
       "      <td>11.0</td>\n",
       "      <td>1.0</td>\n",
       "    </tr>\n",
       "    <tr>\n",
       "      <th>...</th>\n",
       "      <td>...</td>\n",
       "      <td>...</td>\n",
       "      <td>...</td>\n",
       "      <td>...</td>\n",
       "      <td>...</td>\n",
       "      <td>...</td>\n",
       "      <td>...</td>\n",
       "      <td>...</td>\n",
       "      <td>...</td>\n",
       "      <td>...</td>\n",
       "      <td>...</td>\n",
       "      <td>...</td>\n",
       "      <td>...</td>\n",
       "      <td>...</td>\n",
       "      <td>...</td>\n",
       "      <td>...</td>\n",
       "      <td>...</td>\n",
       "      <td>...</td>\n",
       "      <td>...</td>\n",
       "      <td>...</td>\n",
       "      <td>...</td>\n",
       "    </tr>\n",
       "    <tr>\n",
       "      <th>2121</th>\n",
       "      <td>140.0</td>\n",
       "      <td>0.000000</td>\n",
       "      <td>0.000000</td>\n",
       "      <td>0.007426</td>\n",
       "      <td>0.000000</td>\n",
       "      <td>0.0</td>\n",
       "      <td>0.0</td>\n",
       "      <td>79.0</td>\n",
       "      <td>0.2</td>\n",
       "      <td>25.0</td>\n",
       "      <td>...</td>\n",
       "      <td>40.0</td>\n",
       "      <td>137.0</td>\n",
       "      <td>177.0</td>\n",
       "      <td>4.0</td>\n",
       "      <td>0.0</td>\n",
       "      <td>153.0</td>\n",
       "      <td>150.0</td>\n",
       "      <td>152.0</td>\n",
       "      <td>2.0</td>\n",
       "      <td>0.0</td>\n",
       "    </tr>\n",
       "    <tr>\n",
       "      <th>2122</th>\n",
       "      <td>140.0</td>\n",
       "      <td>0.000775</td>\n",
       "      <td>0.000000</td>\n",
       "      <td>0.006971</td>\n",
       "      <td>0.000000</td>\n",
       "      <td>0.0</td>\n",
       "      <td>0.0</td>\n",
       "      <td>78.0</td>\n",
       "      <td>0.4</td>\n",
       "      <td>22.0</td>\n",
       "      <td>...</td>\n",
       "      <td>66.0</td>\n",
       "      <td>103.0</td>\n",
       "      <td>169.0</td>\n",
       "      <td>6.0</td>\n",
       "      <td>0.0</td>\n",
       "      <td>152.0</td>\n",
       "      <td>148.0</td>\n",
       "      <td>151.0</td>\n",
       "      <td>3.0</td>\n",
       "      <td>1.0</td>\n",
       "    </tr>\n",
       "    <tr>\n",
       "      <th>2123</th>\n",
       "      <td>140.0</td>\n",
       "      <td>0.000980</td>\n",
       "      <td>0.000000</td>\n",
       "      <td>0.006863</td>\n",
       "      <td>0.000000</td>\n",
       "      <td>0.0</td>\n",
       "      <td>0.0</td>\n",
       "      <td>79.0</td>\n",
       "      <td>0.4</td>\n",
       "      <td>20.0</td>\n",
       "      <td>...</td>\n",
       "      <td>67.0</td>\n",
       "      <td>103.0</td>\n",
       "      <td>170.0</td>\n",
       "      <td>5.0</td>\n",
       "      <td>0.0</td>\n",
       "      <td>153.0</td>\n",
       "      <td>148.0</td>\n",
       "      <td>152.0</td>\n",
       "      <td>4.0</td>\n",
       "      <td>1.0</td>\n",
       "    </tr>\n",
       "    <tr>\n",
       "      <th>2124</th>\n",
       "      <td>140.0</td>\n",
       "      <td>0.000679</td>\n",
       "      <td>0.000000</td>\n",
       "      <td>0.006110</td>\n",
       "      <td>0.000000</td>\n",
       "      <td>0.0</td>\n",
       "      <td>0.0</td>\n",
       "      <td>78.0</td>\n",
       "      <td>0.4</td>\n",
       "      <td>27.0</td>\n",
       "      <td>...</td>\n",
       "      <td>66.0</td>\n",
       "      <td>103.0</td>\n",
       "      <td>169.0</td>\n",
       "      <td>6.0</td>\n",
       "      <td>0.0</td>\n",
       "      <td>152.0</td>\n",
       "      <td>147.0</td>\n",
       "      <td>151.0</td>\n",
       "      <td>4.0</td>\n",
       "      <td>1.0</td>\n",
       "    </tr>\n",
       "    <tr>\n",
       "      <th>2125</th>\n",
       "      <td>142.0</td>\n",
       "      <td>0.001616</td>\n",
       "      <td>0.001616</td>\n",
       "      <td>0.008078</td>\n",
       "      <td>0.000000</td>\n",
       "      <td>0.0</td>\n",
       "      <td>0.0</td>\n",
       "      <td>74.0</td>\n",
       "      <td>0.4</td>\n",
       "      <td>36.0</td>\n",
       "      <td>...</td>\n",
       "      <td>42.0</td>\n",
       "      <td>117.0</td>\n",
       "      <td>159.0</td>\n",
       "      <td>2.0</td>\n",
       "      <td>1.0</td>\n",
       "      <td>145.0</td>\n",
       "      <td>143.0</td>\n",
       "      <td>145.0</td>\n",
       "      <td>1.0</td>\n",
       "      <td>0.0</td>\n",
       "    </tr>\n",
       "  </tbody>\n",
       "</table>\n",
       "<p>2126 rows × 21 columns</p>\n",
       "</div>"
      ],
      "text/plain": [
       "         LB      AC.1      FM.1      UC.1      DL.1  DS.1  DP.1  ASTV  MSTV  \\\n",
       "0     120.0  0.000000  0.000000  0.000000  0.000000   0.0   0.0  73.0   0.5   \n",
       "1     132.0  0.006380  0.000000  0.006380  0.003190   0.0   0.0  17.0   2.1   \n",
       "2     133.0  0.003322  0.000000  0.008306  0.003322   0.0   0.0  16.0   2.1   \n",
       "3     134.0  0.002561  0.000000  0.007682  0.002561   0.0   0.0  16.0   2.4   \n",
       "4     132.0  0.006515  0.000000  0.008143  0.000000   0.0   0.0  16.0   2.4   \n",
       "...     ...       ...       ...       ...       ...   ...   ...   ...   ...   \n",
       "2121  140.0  0.000000  0.000000  0.007426  0.000000   0.0   0.0  79.0   0.2   \n",
       "2122  140.0  0.000775  0.000000  0.006971  0.000000   0.0   0.0  78.0   0.4   \n",
       "2123  140.0  0.000980  0.000000  0.006863  0.000000   0.0   0.0  79.0   0.4   \n",
       "2124  140.0  0.000679  0.000000  0.006110  0.000000   0.0   0.0  78.0   0.4   \n",
       "2125  142.0  0.001616  0.001616  0.008078  0.000000   0.0   0.0  74.0   0.4   \n",
       "\n",
       "      ALTV  ...  Width    Min    Max  Nmax  Nzeros   Mode   Mean  Median  \\\n",
       "0     43.0  ...   64.0   62.0  126.0   2.0     0.0  120.0  137.0   121.0   \n",
       "1      0.0  ...  130.0   68.0  198.0   6.0     1.0  141.0  136.0   140.0   \n",
       "2      0.0  ...  130.0   68.0  198.0   5.0     1.0  141.0  135.0   138.0   \n",
       "3      0.0  ...  117.0   53.0  170.0  11.0     0.0  137.0  134.0   137.0   \n",
       "4      0.0  ...  117.0   53.0  170.0   9.0     0.0  137.0  136.0   138.0   \n",
       "...    ...  ...    ...    ...    ...   ...     ...    ...    ...     ...   \n",
       "2121  25.0  ...   40.0  137.0  177.0   4.0     0.0  153.0  150.0   152.0   \n",
       "2122  22.0  ...   66.0  103.0  169.0   6.0     0.0  152.0  148.0   151.0   \n",
       "2123  20.0  ...   67.0  103.0  170.0   5.0     0.0  153.0  148.0   152.0   \n",
       "2124  27.0  ...   66.0  103.0  169.0   6.0     0.0  152.0  147.0   151.0   \n",
       "2125  36.0  ...   42.0  117.0  159.0   2.0     1.0  145.0  143.0   145.0   \n",
       "\n",
       "      Variance  Tendency  \n",
       "0         73.0       1.0  \n",
       "1         12.0       0.0  \n",
       "2         13.0       0.0  \n",
       "3         13.0       1.0  \n",
       "4         11.0       1.0  \n",
       "...        ...       ...  \n",
       "2121       2.0       0.0  \n",
       "2122       3.0       1.0  \n",
       "2123       4.0       1.0  \n",
       "2124       4.0       1.0  \n",
       "2125       1.0       0.0  \n",
       "\n",
       "[2126 rows x 21 columns]"
      ]
     },
     "execution_count": 16,
     "metadata": {},
     "output_type": "execute_result"
    }
   ],
   "source": [
    "df.iloc[:, :-1]"
   ]
  },
  {
   "cell_type": "code",
   "execution_count": 17,
   "metadata": {},
   "outputs": [],
   "source": [
    "X = df.iloc[:, :-1]\n",
    "y = df.iloc[:, -1]"
   ]
  },
  {
   "cell_type": "code",
   "execution_count": 18,
   "metadata": {},
   "outputs": [],
   "source": [
    "# splitting the data\n",
    "from sklearn.model_selection import train_test_split\n",
    "x_train, x_valid, y_train, y_valid = train_test_split(X, y, test_size=0.2,\n",
    "                                                     random_state=42)"
   ]
  },
  {
   "cell_type": "code",
   "execution_count": 19,
   "metadata": {
    "scrolled": true
   },
   "outputs": [
    {
     "data": {
      "text/plain": [
       "(((1700, 21), (1700,)), ((426, 21), (426,)))"
      ]
     },
     "execution_count": 19,
     "metadata": {},
     "output_type": "execute_result"
    }
   ],
   "source": [
    "(x_train.shape, y_train.shape), (x_valid.shape, y_valid.shape)"
   ]
  },
  {
   "cell_type": "code",
   "execution_count": 20,
   "metadata": {},
   "outputs": [],
   "source": [
    "from sklearn.ensemble import RandomForestClassifier"
   ]
  },
  {
   "cell_type": "code",
   "execution_count": 21,
   "metadata": {},
   "outputs": [
    {
     "data": {
      "text/plain": [
       "RandomForestClassifier(bootstrap=True, ccp_alpha=0.0, class_weight=None,\n",
       "                       criterion='gini', max_depth=None, max_features='auto',\n",
       "                       max_leaf_nodes=None, max_samples=None,\n",
       "                       min_impurity_decrease=0.0, min_impurity_split=None,\n",
       "                       min_samples_leaf=1, min_samples_split=2,\n",
       "                       min_weight_fraction_leaf=0.0, n_estimators=100,\n",
       "                       n_jobs=None, oob_score=True, random_state=None,\n",
       "                       verbose=0, warm_start=False)"
      ]
     },
     "execution_count": 21,
     "metadata": {},
     "output_type": "execute_result"
    }
   ],
   "source": [
    "from sklearn.ensemble import RandomForestClassifier\n",
    "rf = RandomForestClassifier(oob_score=True)\n",
    "rf.fit(x_train, y_train)"
   ]
  },
  {
   "cell_type": "code",
   "execution_count": 22,
   "metadata": {},
   "outputs": [
    {
     "data": {
      "text/plain": [
       "0.94"
      ]
     },
     "execution_count": 22,
     "metadata": {},
     "output_type": "execute_result"
    }
   ],
   "source": [
    "rf.oob_score_"
   ]
  },
  {
   "cell_type": "code",
   "execution_count": 23,
   "metadata": {},
   "outputs": [
    {
     "data": {
      "text/plain": [
       "1.0"
      ]
     },
     "execution_count": 23,
     "metadata": {},
     "output_type": "execute_result"
    }
   ],
   "source": [
    "rf.score(x_train, y_train)"
   ]
  },
  {
   "cell_type": "code",
   "execution_count": 24,
   "metadata": {},
   "outputs": [
    {
     "data": {
      "text/plain": [
       "0.9413145539906104"
      ]
     },
     "execution_count": 24,
     "metadata": {},
     "output_type": "execute_result"
    }
   ],
   "source": [
    "rf.score(x_valid, y_valid)"
   ]
  },
  {
   "cell_type": "code",
   "execution_count": 25,
   "metadata": {},
   "outputs": [
    {
     "data": {
      "text/plain": [
       "RandomForestClassifier(bootstrap=True, ccp_alpha=0.0, class_weight=None,\n",
       "                       criterion='gini', max_depth=None, max_features=0.5,\n",
       "                       max_leaf_nodes=None, max_samples=None,\n",
       "                       min_impurity_decrease=0.0, min_impurity_split=None,\n",
       "                       min_samples_leaf=1, min_samples_split=2,\n",
       "                       min_weight_fraction_leaf=0.0, n_estimators=40, n_jobs=-1,\n",
       "                       oob_score=True, random_state=None, verbose=0,\n",
       "                       warm_start=False)"
      ]
     },
     "execution_count": 25,
     "metadata": {},
     "output_type": "execute_result"
    }
   ],
   "source": [
    "rf = RandomForestClassifier(n_estimators=40, max_features=0.5, n_jobs=-1, oob_score=True)\n",
    "rf.fit(x_train, y_train)"
   ]
  },
  {
   "cell_type": "code",
   "execution_count": 26,
   "metadata": {},
   "outputs": [
    {
     "data": {
      "text/plain": [
       "0.9394117647058824"
      ]
     },
     "execution_count": 26,
     "metadata": {},
     "output_type": "execute_result"
    }
   ],
   "source": [
    "rf.oob_score_"
   ]
  },
  {
   "cell_type": "code",
   "execution_count": 27,
   "metadata": {},
   "outputs": [
    {
     "data": {
      "text/plain": [
       "1.0"
      ]
     },
     "execution_count": 27,
     "metadata": {},
     "output_type": "execute_result"
    }
   ],
   "source": [
    "rf.score(x_train, y_train)"
   ]
  },
  {
   "cell_type": "code",
   "execution_count": 28,
   "metadata": {},
   "outputs": [
    {
     "data": {
      "text/plain": [
       "0.9577464788732394"
      ]
     },
     "execution_count": 28,
     "metadata": {},
     "output_type": "execute_result"
    }
   ],
   "source": [
    "rf.score(x_valid, y_valid)"
   ]
  },
  {
   "cell_type": "code",
   "execution_count": 29,
   "metadata": {},
   "outputs": [
    {
     "data": {
      "text/plain": [
       "array([[327,  10,   1],\n",
       "       [  5,  53,   0],\n",
       "       [  1,   1,  28]])"
      ]
     },
     "execution_count": 29,
     "metadata": {},
     "output_type": "execute_result"
    }
   ],
   "source": [
    "confusion_matrix(rf.predict(x_valid), y_valid)"
   ]
  },
  {
   "cell_type": "code",
   "execution_count": 30,
   "metadata": {},
   "outputs": [
    {
     "data": {
      "text/plain": [
       "0.938194019361128"
      ]
     },
     "execution_count": 30,
     "metadata": {},
     "output_type": "execute_result"
    }
   ],
   "source": [
    "balanced_accuracy_score(rf.predict(x_valid), y_valid)"
   ]
  },
  {
   "cell_type": "markdown",
   "metadata": {},
   "source": [
    "Moaz from the future: this model produces a better result than my best optimized model as I didn't use `stratify` while splitting which means the data is unbalanced in the datasets which leads to these false resutls"
   ]
  },
  {
   "cell_type": "markdown",
   "metadata": {},
   "source": [
    "# Actual Work"
   ]
  },
  {
   "cell_type": "code",
   "execution_count": 31,
   "metadata": {},
   "outputs": [],
   "source": [
    "# modules\n",
    "import pandas as pd\n",
    "import numpy as np\n",
    "import time\n",
    "\n",
    "import matplotlib.pyplot as plt\n",
    "%matplotlib inline\n",
    "\n",
    "from sklearn.preprocessing import StandardScaler\n",
    "from sklearn.model_selection import train_test_split\n",
    "from sklearn.model_selection import cross_val_score\n",
    "from sklearn.model_selection import learning_curve\n",
    "from sklearn.metrics import balanced_accuracy_score\n",
    "\n",
    "# metrics \n",
    "from sklearn.metrics import confusion_matrix, precision_score, recall_score, f1_score, accuracy_score, plot_confusion_matrix\n",
    "\n",
    "# models\n",
    "from sklearn.ensemble import RandomForestClassifier\n",
    "from sklearn.neighbors import KNeighborsClassifier\n",
    "from sklearn.svm import SVC"
   ]
  },
  {
   "cell_type": "code",
   "execution_count": 32,
   "metadata": {},
   "outputs": [],
   "source": [
    "import warnings\n",
    "warnings.filterwarnings(\"ignore\", category=UserWarning)\n",
    "warnings.filterwarnings(\"ignore\", category=RuntimeWarning)"
   ]
  },
  {
   "cell_type": "markdown",
   "metadata": {},
   "source": [
    "### The Dataset - Cadiotocographics data\n",
    "- The dataset is a collection of 2126 of **fetal heart rate (FHR) signals**.\n",
    "\n",
    "- Why is the dataset interesting?\n",
    "FHR and other types of data in Cardiotocography(CTG) are recoded during cases like pregnancy. But most of the time it is done **manually**, that may produce human errors. So automated way to understand and interpret these CTGs would be very beneficial."
   ]
  },
  {
   "cell_type": "code",
   "execution_count": 33,
   "metadata": {},
   "outputs": [
    {
     "data": {
      "text/html": [
       "<div>\n",
       "<style scoped>\n",
       "    .dataframe tbody tr th:only-of-type {\n",
       "        vertical-align: middle;\n",
       "    }\n",
       "\n",
       "    .dataframe tbody tr th {\n",
       "        vertical-align: top;\n",
       "    }\n",
       "\n",
       "    .dataframe thead th {\n",
       "        text-align: right;\n",
       "    }\n",
       "</style>\n",
       "<table border=\"1\" class=\"dataframe\">\n",
       "  <thead>\n",
       "    <tr style=\"text-align: right;\">\n",
       "      <th></th>\n",
       "      <th>b</th>\n",
       "      <th>e</th>\n",
       "      <th>AC</th>\n",
       "      <th>FM</th>\n",
       "      <th>UC</th>\n",
       "      <th>DL</th>\n",
       "      <th>DS</th>\n",
       "      <th>DP</th>\n",
       "      <th>DR</th>\n",
       "      <th>Unnamed: 9</th>\n",
       "      <th>...</th>\n",
       "      <th>E</th>\n",
       "      <th>AD</th>\n",
       "      <th>DE</th>\n",
       "      <th>LD</th>\n",
       "      <th>FS</th>\n",
       "      <th>SUSP</th>\n",
       "      <th>Unnamed: 42</th>\n",
       "      <th>CLASS</th>\n",
       "      <th>Unnamed: 44</th>\n",
       "      <th>NSP</th>\n",
       "    </tr>\n",
       "  </thead>\n",
       "  <tbody>\n",
       "    <tr>\n",
       "      <th>0</th>\n",
       "      <td>240.0</td>\n",
       "      <td>357.0</td>\n",
       "      <td>0.0</td>\n",
       "      <td>0.0</td>\n",
       "      <td>0.0</td>\n",
       "      <td>0.0</td>\n",
       "      <td>0.0</td>\n",
       "      <td>0.0</td>\n",
       "      <td>0.0</td>\n",
       "      <td>NaN</td>\n",
       "      <td>...</td>\n",
       "      <td>-1.0</td>\n",
       "      <td>-1.0</td>\n",
       "      <td>-1.0</td>\n",
       "      <td>-1.0</td>\n",
       "      <td>1.0</td>\n",
       "      <td>-1.0</td>\n",
       "      <td>NaN</td>\n",
       "      <td>9.0</td>\n",
       "      <td>NaN</td>\n",
       "      <td>2.0</td>\n",
       "    </tr>\n",
       "    <tr>\n",
       "      <th>1</th>\n",
       "      <td>5.0</td>\n",
       "      <td>632.0</td>\n",
       "      <td>4.0</td>\n",
       "      <td>0.0</td>\n",
       "      <td>4.0</td>\n",
       "      <td>2.0</td>\n",
       "      <td>0.0</td>\n",
       "      <td>0.0</td>\n",
       "      <td>0.0</td>\n",
       "      <td>NaN</td>\n",
       "      <td>...</td>\n",
       "      <td>-1.0</td>\n",
       "      <td>1.0</td>\n",
       "      <td>-1.0</td>\n",
       "      <td>-1.0</td>\n",
       "      <td>-1.0</td>\n",
       "      <td>-1.0</td>\n",
       "      <td>NaN</td>\n",
       "      <td>6.0</td>\n",
       "      <td>NaN</td>\n",
       "      <td>1.0</td>\n",
       "    </tr>\n",
       "    <tr>\n",
       "      <th>2</th>\n",
       "      <td>177.0</td>\n",
       "      <td>779.0</td>\n",
       "      <td>2.0</td>\n",
       "      <td>0.0</td>\n",
       "      <td>5.0</td>\n",
       "      <td>2.0</td>\n",
       "      <td>0.0</td>\n",
       "      <td>0.0</td>\n",
       "      <td>0.0</td>\n",
       "      <td>NaN</td>\n",
       "      <td>...</td>\n",
       "      <td>-1.0</td>\n",
       "      <td>1.0</td>\n",
       "      <td>-1.0</td>\n",
       "      <td>-1.0</td>\n",
       "      <td>-1.0</td>\n",
       "      <td>-1.0</td>\n",
       "      <td>NaN</td>\n",
       "      <td>6.0</td>\n",
       "      <td>NaN</td>\n",
       "      <td>1.0</td>\n",
       "    </tr>\n",
       "    <tr>\n",
       "      <th>3</th>\n",
       "      <td>411.0</td>\n",
       "      <td>1192.0</td>\n",
       "      <td>2.0</td>\n",
       "      <td>0.0</td>\n",
       "      <td>6.0</td>\n",
       "      <td>2.0</td>\n",
       "      <td>0.0</td>\n",
       "      <td>0.0</td>\n",
       "      <td>0.0</td>\n",
       "      <td>NaN</td>\n",
       "      <td>...</td>\n",
       "      <td>-1.0</td>\n",
       "      <td>1.0</td>\n",
       "      <td>-1.0</td>\n",
       "      <td>-1.0</td>\n",
       "      <td>-1.0</td>\n",
       "      <td>-1.0</td>\n",
       "      <td>NaN</td>\n",
       "      <td>6.0</td>\n",
       "      <td>NaN</td>\n",
       "      <td>1.0</td>\n",
       "    </tr>\n",
       "    <tr>\n",
       "      <th>4</th>\n",
       "      <td>533.0</td>\n",
       "      <td>1147.0</td>\n",
       "      <td>4.0</td>\n",
       "      <td>0.0</td>\n",
       "      <td>5.0</td>\n",
       "      <td>0.0</td>\n",
       "      <td>0.0</td>\n",
       "      <td>0.0</td>\n",
       "      <td>0.0</td>\n",
       "      <td>NaN</td>\n",
       "      <td>...</td>\n",
       "      <td>-1.0</td>\n",
       "      <td>-1.0</td>\n",
       "      <td>-1.0</td>\n",
       "      <td>-1.0</td>\n",
       "      <td>-1.0</td>\n",
       "      <td>-1.0</td>\n",
       "      <td>NaN</td>\n",
       "      <td>2.0</td>\n",
       "      <td>NaN</td>\n",
       "      <td>1.0</td>\n",
       "    </tr>\n",
       "  </tbody>\n",
       "</table>\n",
       "<p>5 rows × 46 columns</p>\n",
       "</div>"
      ],
      "text/plain": [
       "       b       e   AC   FM   UC   DL   DS   DP   DR  Unnamed: 9  ...    E  \\\n",
       "0  240.0   357.0  0.0  0.0  0.0  0.0  0.0  0.0  0.0         NaN  ... -1.0   \n",
       "1    5.0   632.0  4.0  0.0  4.0  2.0  0.0  0.0  0.0         NaN  ... -1.0   \n",
       "2  177.0   779.0  2.0  0.0  5.0  2.0  0.0  0.0  0.0         NaN  ... -1.0   \n",
       "3  411.0  1192.0  2.0  0.0  6.0  2.0  0.0  0.0  0.0         NaN  ... -1.0   \n",
       "4  533.0  1147.0  4.0  0.0  5.0  0.0  0.0  0.0  0.0         NaN  ... -1.0   \n",
       "\n",
       "    AD   DE   LD   FS  SUSP  Unnamed: 42  CLASS  Unnamed: 44  NSP  \n",
       "0 -1.0 -1.0 -1.0  1.0  -1.0          NaN    9.0          NaN  2.0  \n",
       "1  1.0 -1.0 -1.0 -1.0  -1.0          NaN    6.0          NaN  1.0  \n",
       "2  1.0 -1.0 -1.0 -1.0  -1.0          NaN    6.0          NaN  1.0  \n",
       "3  1.0 -1.0 -1.0 -1.0  -1.0          NaN    6.0          NaN  1.0  \n",
       "4 -1.0 -1.0 -1.0 -1.0  -1.0          NaN    2.0          NaN  1.0  \n",
       "\n",
       "[5 rows x 46 columns]"
      ]
     },
     "execution_count": 33,
     "metadata": {},
     "output_type": "execute_result"
    }
   ],
   "source": [
    "import pandas as pd\n",
    "\n",
    "xls = pd.ExcelFile('CTG.xls')\n",
    "df = pd.read_excel(xls, 'Data', header=1)\n",
    "df.head()"
   ]
  },
  {
   "cell_type": "code",
   "execution_count": 34,
   "metadata": {},
   "outputs": [
    {
     "data": {
      "text/plain": [
       "(2129, 46)"
      ]
     },
     "execution_count": 34,
     "metadata": {},
     "output_type": "execute_result"
    }
   ],
   "source": [
    "df.shape"
   ]
  },
  {
   "attachments": {
    "image.png": {
     "image/png": "[encoded data removed]"
    }
   },
   "cell_type": "markdown",
   "metadata": {},
   "source": [
    "**We have 3 more rows than expected, some statistic data is put at the end of the file**\n",
    "\n",
    "![image.png](attachment:image.png)"
   ]
  },
  {
   "cell_type": "code",
   "execution_count": 35,
   "metadata": {},
   "outputs": [
    {
     "data": {
      "text/html": [
       "<div>\n",
       "<style scoped>\n",
       "    .dataframe tbody tr th:only-of-type {\n",
       "        vertical-align: middle;\n",
       "    }\n",
       "\n",
       "    .dataframe tbody tr th {\n",
       "        vertical-align: top;\n",
       "    }\n",
       "\n",
       "    .dataframe thead th {\n",
       "        text-align: right;\n",
       "    }\n",
       "</style>\n",
       "<table border=\"1\" class=\"dataframe\">\n",
       "  <thead>\n",
       "    <tr style=\"text-align: right;\">\n",
       "      <th></th>\n",
       "      <th>b</th>\n",
       "      <th>e</th>\n",
       "      <th>AC</th>\n",
       "      <th>FM</th>\n",
       "      <th>UC</th>\n",
       "      <th>DL</th>\n",
       "      <th>DS</th>\n",
       "      <th>DP</th>\n",
       "      <th>DR</th>\n",
       "      <th>Unnamed: 9</th>\n",
       "      <th>...</th>\n",
       "      <th>E</th>\n",
       "      <th>AD</th>\n",
       "      <th>DE</th>\n",
       "      <th>LD</th>\n",
       "      <th>FS</th>\n",
       "      <th>SUSP</th>\n",
       "      <th>Unnamed: 42</th>\n",
       "      <th>CLASS</th>\n",
       "      <th>Unnamed: 44</th>\n",
       "      <th>NSP</th>\n",
       "    </tr>\n",
       "  </thead>\n",
       "  <tbody>\n",
       "    <tr>\n",
       "      <th>2124</th>\n",
       "      <td>1576.0</td>\n",
       "      <td>3049.0</td>\n",
       "      <td>1.0</td>\n",
       "      <td>0.0</td>\n",
       "      <td>9.0</td>\n",
       "      <td>0.0</td>\n",
       "      <td>0.0</td>\n",
       "      <td>0.0</td>\n",
       "      <td>0.0</td>\n",
       "      <td>NaN</td>\n",
       "      <td>...</td>\n",
       "      <td>1.0</td>\n",
       "      <td>-1.0</td>\n",
       "      <td>-1.0</td>\n",
       "      <td>-1.0</td>\n",
       "      <td>-1.0</td>\n",
       "      <td>-1.0</td>\n",
       "      <td>NaN</td>\n",
       "      <td>5.0</td>\n",
       "      <td>NaN</td>\n",
       "      <td>2.0</td>\n",
       "    </tr>\n",
       "    <tr>\n",
       "      <th>2125</th>\n",
       "      <td>2796.0</td>\n",
       "      <td>3415.0</td>\n",
       "      <td>1.0</td>\n",
       "      <td>1.0</td>\n",
       "      <td>5.0</td>\n",
       "      <td>0.0</td>\n",
       "      <td>0.0</td>\n",
       "      <td>0.0</td>\n",
       "      <td>0.0</td>\n",
       "      <td>NaN</td>\n",
       "      <td>...</td>\n",
       "      <td>-1.0</td>\n",
       "      <td>-1.0</td>\n",
       "      <td>-1.0</td>\n",
       "      <td>-1.0</td>\n",
       "      <td>-1.0</td>\n",
       "      <td>-1.0</td>\n",
       "      <td>NaN</td>\n",
       "      <td>1.0</td>\n",
       "      <td>NaN</td>\n",
       "      <td>1.0</td>\n",
       "    </tr>\n",
       "    <tr>\n",
       "      <th>2126</th>\n",
       "      <td>NaN</td>\n",
       "      <td>NaN</td>\n",
       "      <td>NaN</td>\n",
       "      <td>NaN</td>\n",
       "      <td>NaN</td>\n",
       "      <td>NaN</td>\n",
       "      <td>NaN</td>\n",
       "      <td>NaN</td>\n",
       "      <td>NaN</td>\n",
       "      <td>NaN</td>\n",
       "      <td>...</td>\n",
       "      <td>NaN</td>\n",
       "      <td>NaN</td>\n",
       "      <td>NaN</td>\n",
       "      <td>NaN</td>\n",
       "      <td>NaN</td>\n",
       "      <td>NaN</td>\n",
       "      <td>NaN</td>\n",
       "      <td>NaN</td>\n",
       "      <td>NaN</td>\n",
       "      <td>NaN</td>\n",
       "    </tr>\n",
       "    <tr>\n",
       "      <th>2127</th>\n",
       "      <td>NaN</td>\n",
       "      <td>NaN</td>\n",
       "      <td>NaN</td>\n",
       "      <td>NaN</td>\n",
       "      <td>NaN</td>\n",
       "      <td>0.0</td>\n",
       "      <td>0.0</td>\n",
       "      <td>0.0</td>\n",
       "      <td>0.0</td>\n",
       "      <td>NaN</td>\n",
       "      <td>...</td>\n",
       "      <td>72.0</td>\n",
       "      <td>332.0</td>\n",
       "      <td>252.0</td>\n",
       "      <td>107.0</td>\n",
       "      <td>69.0</td>\n",
       "      <td>197.0</td>\n",
       "      <td>NaN</td>\n",
       "      <td>NaN</td>\n",
       "      <td>NaN</td>\n",
       "      <td>NaN</td>\n",
       "    </tr>\n",
       "    <tr>\n",
       "      <th>2128</th>\n",
       "      <td>NaN</td>\n",
       "      <td>NaN</td>\n",
       "      <td>NaN</td>\n",
       "      <td>564.0</td>\n",
       "      <td>23.0</td>\n",
       "      <td>16.0</td>\n",
       "      <td>1.0</td>\n",
       "      <td>4.0</td>\n",
       "      <td>0.0</td>\n",
       "      <td>NaN</td>\n",
       "      <td>...</td>\n",
       "      <td>NaN</td>\n",
       "      <td>NaN</td>\n",
       "      <td>NaN</td>\n",
       "      <td>NaN</td>\n",
       "      <td>NaN</td>\n",
       "      <td>NaN</td>\n",
       "      <td>NaN</td>\n",
       "      <td>NaN</td>\n",
       "      <td>NaN</td>\n",
       "      <td>NaN</td>\n",
       "    </tr>\n",
       "  </tbody>\n",
       "</table>\n",
       "<p>5 rows × 46 columns</p>\n",
       "</div>"
      ],
      "text/plain": [
       "           b       e   AC     FM    UC    DL   DS   DP   DR  Unnamed: 9  ...  \\\n",
       "2124  1576.0  3049.0  1.0    0.0   9.0   0.0  0.0  0.0  0.0         NaN  ...   \n",
       "2125  2796.0  3415.0  1.0    1.0   5.0   0.0  0.0  0.0  0.0         NaN  ...   \n",
       "2126     NaN     NaN  NaN    NaN   NaN   NaN  NaN  NaN  NaN         NaN  ...   \n",
       "2127     NaN     NaN  NaN    NaN   NaN   0.0  0.0  0.0  0.0         NaN  ...   \n",
       "2128     NaN     NaN  NaN  564.0  23.0  16.0  1.0  4.0  0.0         NaN  ...   \n",
       "\n",
       "         E     AD     DE     LD    FS   SUSP  Unnamed: 42  CLASS  Unnamed: 44  \\\n",
       "2124   1.0   -1.0   -1.0   -1.0  -1.0   -1.0          NaN    5.0          NaN   \n",
       "2125  -1.0   -1.0   -1.0   -1.0  -1.0   -1.0          NaN    1.0          NaN   \n",
       "2126   NaN    NaN    NaN    NaN   NaN    NaN          NaN    NaN          NaN   \n",
       "2127  72.0  332.0  252.0  107.0  69.0  197.0          NaN    NaN          NaN   \n",
       "2128   NaN    NaN    NaN    NaN   NaN    NaN          NaN    NaN          NaN   \n",
       "\n",
       "      NSP  \n",
       "2124  2.0  \n",
       "2125  1.0  \n",
       "2126  NaN  \n",
       "2127  NaN  \n",
       "2128  NaN  \n",
       "\n",
       "[5 rows x 46 columns]"
      ]
     },
     "execution_count": 35,
     "metadata": {},
     "output_type": "execute_result"
    }
   ],
   "source": [
    "df.tail()"
   ]
  },
  {
   "cell_type": "code",
   "execution_count": 36,
   "metadata": {},
   "outputs": [
    {
     "name": "stdout",
     "output_type": "stream",
     "text": [
      "Correct number of rows: 2126\n"
     ]
    },
    {
     "data": {
      "text/html": [
       "<div>\n",
       "<style scoped>\n",
       "    .dataframe tbody tr th:only-of-type {\n",
       "        vertical-align: middle;\n",
       "    }\n",
       "\n",
       "    .dataframe tbody tr th {\n",
       "        vertical-align: top;\n",
       "    }\n",
       "\n",
       "    .dataframe thead th {\n",
       "        text-align: right;\n",
       "    }\n",
       "</style>\n",
       "<table border=\"1\" class=\"dataframe\">\n",
       "  <thead>\n",
       "    <tr style=\"text-align: right;\">\n",
       "      <th></th>\n",
       "      <th>b</th>\n",
       "      <th>e</th>\n",
       "      <th>AC</th>\n",
       "      <th>FM</th>\n",
       "      <th>UC</th>\n",
       "      <th>DL</th>\n",
       "      <th>DS</th>\n",
       "      <th>DP</th>\n",
       "      <th>DR</th>\n",
       "      <th>Unnamed: 9</th>\n",
       "      <th>...</th>\n",
       "      <th>E</th>\n",
       "      <th>AD</th>\n",
       "      <th>DE</th>\n",
       "      <th>LD</th>\n",
       "      <th>FS</th>\n",
       "      <th>SUSP</th>\n",
       "      <th>Unnamed: 42</th>\n",
       "      <th>CLASS</th>\n",
       "      <th>Unnamed: 44</th>\n",
       "      <th>NSP</th>\n",
       "    </tr>\n",
       "  </thead>\n",
       "  <tbody>\n",
       "    <tr>\n",
       "      <th>2121</th>\n",
       "      <td>2059.0</td>\n",
       "      <td>2867.0</td>\n",
       "      <td>0.0</td>\n",
       "      <td>0.0</td>\n",
       "      <td>6.0</td>\n",
       "      <td>0.0</td>\n",
       "      <td>0.0</td>\n",
       "      <td>0.0</td>\n",
       "      <td>0.0</td>\n",
       "      <td>NaN</td>\n",
       "      <td>...</td>\n",
       "      <td>1.0</td>\n",
       "      <td>-1.0</td>\n",
       "      <td>-1.0</td>\n",
       "      <td>-1.0</td>\n",
       "      <td>-1.0</td>\n",
       "      <td>-1.0</td>\n",
       "      <td>NaN</td>\n",
       "      <td>5.0</td>\n",
       "      <td>NaN</td>\n",
       "      <td>2.0</td>\n",
       "    </tr>\n",
       "    <tr>\n",
       "      <th>2122</th>\n",
       "      <td>1576.0</td>\n",
       "      <td>2867.0</td>\n",
       "      <td>1.0</td>\n",
       "      <td>0.0</td>\n",
       "      <td>9.0</td>\n",
       "      <td>0.0</td>\n",
       "      <td>0.0</td>\n",
       "      <td>0.0</td>\n",
       "      <td>0.0</td>\n",
       "      <td>NaN</td>\n",
       "      <td>...</td>\n",
       "      <td>1.0</td>\n",
       "      <td>-1.0</td>\n",
       "      <td>-1.0</td>\n",
       "      <td>-1.0</td>\n",
       "      <td>-1.0</td>\n",
       "      <td>-1.0</td>\n",
       "      <td>NaN</td>\n",
       "      <td>5.0</td>\n",
       "      <td>NaN</td>\n",
       "      <td>2.0</td>\n",
       "    </tr>\n",
       "    <tr>\n",
       "      <th>2123</th>\n",
       "      <td>1576.0</td>\n",
       "      <td>2596.0</td>\n",
       "      <td>1.0</td>\n",
       "      <td>0.0</td>\n",
       "      <td>7.0</td>\n",
       "      <td>0.0</td>\n",
       "      <td>0.0</td>\n",
       "      <td>0.0</td>\n",
       "      <td>0.0</td>\n",
       "      <td>NaN</td>\n",
       "      <td>...</td>\n",
       "      <td>1.0</td>\n",
       "      <td>-1.0</td>\n",
       "      <td>-1.0</td>\n",
       "      <td>-1.0</td>\n",
       "      <td>-1.0</td>\n",
       "      <td>-1.0</td>\n",
       "      <td>NaN</td>\n",
       "      <td>5.0</td>\n",
       "      <td>NaN</td>\n",
       "      <td>2.0</td>\n",
       "    </tr>\n",
       "    <tr>\n",
       "      <th>2124</th>\n",
       "      <td>1576.0</td>\n",
       "      <td>3049.0</td>\n",
       "      <td>1.0</td>\n",
       "      <td>0.0</td>\n",
       "      <td>9.0</td>\n",
       "      <td>0.0</td>\n",
       "      <td>0.0</td>\n",
       "      <td>0.0</td>\n",
       "      <td>0.0</td>\n",
       "      <td>NaN</td>\n",
       "      <td>...</td>\n",
       "      <td>1.0</td>\n",
       "      <td>-1.0</td>\n",
       "      <td>-1.0</td>\n",
       "      <td>-1.0</td>\n",
       "      <td>-1.0</td>\n",
       "      <td>-1.0</td>\n",
       "      <td>NaN</td>\n",
       "      <td>5.0</td>\n",
       "      <td>NaN</td>\n",
       "      <td>2.0</td>\n",
       "    </tr>\n",
       "    <tr>\n",
       "      <th>2125</th>\n",
       "      <td>2796.0</td>\n",
       "      <td>3415.0</td>\n",
       "      <td>1.0</td>\n",
       "      <td>1.0</td>\n",
       "      <td>5.0</td>\n",
       "      <td>0.0</td>\n",
       "      <td>0.0</td>\n",
       "      <td>0.0</td>\n",
       "      <td>0.0</td>\n",
       "      <td>NaN</td>\n",
       "      <td>...</td>\n",
       "      <td>-1.0</td>\n",
       "      <td>-1.0</td>\n",
       "      <td>-1.0</td>\n",
       "      <td>-1.0</td>\n",
       "      <td>-1.0</td>\n",
       "      <td>-1.0</td>\n",
       "      <td>NaN</td>\n",
       "      <td>1.0</td>\n",
       "      <td>NaN</td>\n",
       "      <td>1.0</td>\n",
       "    </tr>\n",
       "  </tbody>\n",
       "</table>\n",
       "<p>5 rows × 46 columns</p>\n",
       "</div>"
      ],
      "text/plain": [
       "           b       e   AC   FM   UC   DL   DS   DP   DR  Unnamed: 9  ...    E  \\\n",
       "2121  2059.0  2867.0  0.0  0.0  6.0  0.0  0.0  0.0  0.0         NaN  ...  1.0   \n",
       "2122  1576.0  2867.0  1.0  0.0  9.0  0.0  0.0  0.0  0.0         NaN  ...  1.0   \n",
       "2123  1576.0  2596.0  1.0  0.0  7.0  0.0  0.0  0.0  0.0         NaN  ...  1.0   \n",
       "2124  1576.0  3049.0  1.0  0.0  9.0  0.0  0.0  0.0  0.0         NaN  ...  1.0   \n",
       "2125  2796.0  3415.0  1.0  1.0  5.0  0.0  0.0  0.0  0.0         NaN  ... -1.0   \n",
       "\n",
       "       AD   DE   LD   FS  SUSP  Unnamed: 42  CLASS  Unnamed: 44  NSP  \n",
       "2121 -1.0 -1.0 -1.0 -1.0  -1.0          NaN    5.0          NaN  2.0  \n",
       "2122 -1.0 -1.0 -1.0 -1.0  -1.0          NaN    5.0          NaN  2.0  \n",
       "2123 -1.0 -1.0 -1.0 -1.0  -1.0          NaN    5.0          NaN  2.0  \n",
       "2124 -1.0 -1.0 -1.0 -1.0  -1.0          NaN    5.0          NaN  2.0  \n",
       "2125 -1.0 -1.0 -1.0 -1.0  -1.0          NaN    1.0          NaN  1.0  \n",
       "\n",
       "[5 rows x 46 columns]"
      ]
     },
     "execution_count": 36,
     "metadata": {},
     "output_type": "execute_result"
    }
   ],
   "source": [
    "# drop the last 3 rows\n",
    "df = df.iloc[:-3, :]\n",
    "if df.shape[0] == 2126:\n",
    "    print(f'Correct number of rows: {df.shape[0]}')\n",
    "df.tail()"
   ]
  },
  {
   "cell_type": "code",
   "execution_count": 37,
   "metadata": {},
   "outputs": [
    {
     "name": "stdout",
     "output_type": "stream",
     "text": [
      "Droped #4 columns.\n"
     ]
    }
   ],
   "source": [
    "# Removing unnamed columns (Empty columns from the excel sheet)\n",
    "unnamed_cols = [x for x in df.columns if 'Unnamed' in x]\n",
    "\n",
    "# check if the columns are really empty\n",
    "for col in unnamed_cols:\n",
    "    assert df[col].sum() == 0, f'Column:{col} is not empty!!'\n",
    "\n",
    "# drop unnamed columns\n",
    "df.drop(unnamed_cols, axis=1, inplace=True)\n",
    "\n",
    "print(f\"Droped #{len(unnamed_cols)} columns.\")"
   ]
  },
  {
   "cell_type": "code",
   "execution_count": 38,
   "metadata": {},
   "outputs": [],
   "source": [
    "# Target Columns \n",
    "three_classes_target = ['NSP'] # 1, 2, 3\n",
    "ten_classes = 'A, B, C, D, E, AD, DE, LD, FS, SUSP'.split(', ')\n",
    "ten_classes_target = 'CLASS'"
   ]
  },
  {
   "cell_type": "markdown",
   "metadata": {},
   "source": [
    "We are working on the 3 classes probelm (**NSP**)"
   ]
  },
  {
   "cell_type": "code",
   "execution_count": 39,
   "metadata": {},
   "outputs": [],
   "source": [
    "# drop 10 classes columns and target\n",
    "df.drop(ten_classes, axis=1, inplace=True)\n",
    "df.drop(['CLASS'], axis=1, inplace=True)"
   ]
  },
  {
   "cell_type": "markdown",
   "metadata": {},
   "source": [
    "**Droping Old Features**\n",
    "\n",
    "**b**: The start of the instant\n",
    "\n",
    "**e**: The end of the instant\n",
    "\n",
    "**DR**: was always 0, so it will not make a difference\n",
    "\n",
    "The features **['AC', 'FM', 'UC', 'DL', 'DS', 'DP']** are calculated by dividing them by `e-b` and put in new columns with the same name, so we drop the old ones."
   ]
  },
  {
   "cell_type": "code",
   "execution_count": 40,
   "metadata": {},
   "outputs": [
    {
     "name": "stdout",
     "output_type": "stream",
     "text": [
      "The dropped Features: \n",
      "Index(['b', 'e', 'AC', 'FM', 'UC', 'DL', 'DS', 'DP', 'DR'], dtype='object')\n"
     ]
    }
   ],
   "source": [
    "# drop b,e and old features\n",
    "old_features = df.columns[:9]\n",
    "df.drop(old_features, axis=1, inplace=True)\n",
    "print(f\"The dropped Features: \\n{old_features}\")"
   ]
  },
  {
   "cell_type": "code",
   "execution_count": 41,
   "metadata": {},
   "outputs": [
    {
     "data": {
      "text/html": [
       "<div>\n",
       "<style scoped>\n",
       "    .dataframe tbody tr th:only-of-type {\n",
       "        vertical-align: middle;\n",
       "    }\n",
       "\n",
       "    .dataframe tbody tr th {\n",
       "        vertical-align: top;\n",
       "    }\n",
       "\n",
       "    .dataframe thead th {\n",
       "        text-align: right;\n",
       "    }\n",
       "</style>\n",
       "<table border=\"1\" class=\"dataframe\">\n",
       "  <thead>\n",
       "    <tr style=\"text-align: right;\">\n",
       "      <th></th>\n",
       "      <th>LB</th>\n",
       "      <th>AC.1</th>\n",
       "      <th>FM.1</th>\n",
       "      <th>UC.1</th>\n",
       "      <th>DL.1</th>\n",
       "      <th>DS.1</th>\n",
       "      <th>DP.1</th>\n",
       "      <th>ASTV</th>\n",
       "      <th>MSTV</th>\n",
       "      <th>ALTV</th>\n",
       "      <th>...</th>\n",
       "      <th>Min</th>\n",
       "      <th>Max</th>\n",
       "      <th>Nmax</th>\n",
       "      <th>Nzeros</th>\n",
       "      <th>Mode</th>\n",
       "      <th>Mean</th>\n",
       "      <th>Median</th>\n",
       "      <th>Variance</th>\n",
       "      <th>Tendency</th>\n",
       "      <th>NSP</th>\n",
       "    </tr>\n",
       "  </thead>\n",
       "  <tbody>\n",
       "    <tr>\n",
       "      <th>0</th>\n",
       "      <td>120.0</td>\n",
       "      <td>0.000000</td>\n",
       "      <td>0.0</td>\n",
       "      <td>0.000000</td>\n",
       "      <td>0.000000</td>\n",
       "      <td>0.0</td>\n",
       "      <td>0.0</td>\n",
       "      <td>73.0</td>\n",
       "      <td>0.5</td>\n",
       "      <td>43.0</td>\n",
       "      <td>...</td>\n",
       "      <td>62.0</td>\n",
       "      <td>126.0</td>\n",
       "      <td>2.0</td>\n",
       "      <td>0.0</td>\n",
       "      <td>120.0</td>\n",
       "      <td>137.0</td>\n",
       "      <td>121.0</td>\n",
       "      <td>73.0</td>\n",
       "      <td>1.0</td>\n",
       "      <td>2.0</td>\n",
       "    </tr>\n",
       "    <tr>\n",
       "      <th>1</th>\n",
       "      <td>132.0</td>\n",
       "      <td>0.006380</td>\n",
       "      <td>0.0</td>\n",
       "      <td>0.006380</td>\n",
       "      <td>0.003190</td>\n",
       "      <td>0.0</td>\n",
       "      <td>0.0</td>\n",
       "      <td>17.0</td>\n",
       "      <td>2.1</td>\n",
       "      <td>0.0</td>\n",
       "      <td>...</td>\n",
       "      <td>68.0</td>\n",
       "      <td>198.0</td>\n",
       "      <td>6.0</td>\n",
       "      <td>1.0</td>\n",
       "      <td>141.0</td>\n",
       "      <td>136.0</td>\n",
       "      <td>140.0</td>\n",
       "      <td>12.0</td>\n",
       "      <td>0.0</td>\n",
       "      <td>1.0</td>\n",
       "    </tr>\n",
       "    <tr>\n",
       "      <th>2</th>\n",
       "      <td>133.0</td>\n",
       "      <td>0.003322</td>\n",
       "      <td>0.0</td>\n",
       "      <td>0.008306</td>\n",
       "      <td>0.003322</td>\n",
       "      <td>0.0</td>\n",
       "      <td>0.0</td>\n",
       "      <td>16.0</td>\n",
       "      <td>2.1</td>\n",
       "      <td>0.0</td>\n",
       "      <td>...</td>\n",
       "      <td>68.0</td>\n",
       "      <td>198.0</td>\n",
       "      <td>5.0</td>\n",
       "      <td>1.0</td>\n",
       "      <td>141.0</td>\n",
       "      <td>135.0</td>\n",
       "      <td>138.0</td>\n",
       "      <td>13.0</td>\n",
       "      <td>0.0</td>\n",
       "      <td>1.0</td>\n",
       "    </tr>\n",
       "    <tr>\n",
       "      <th>3</th>\n",
       "      <td>134.0</td>\n",
       "      <td>0.002561</td>\n",
       "      <td>0.0</td>\n",
       "      <td>0.007682</td>\n",
       "      <td>0.002561</td>\n",
       "      <td>0.0</td>\n",
       "      <td>0.0</td>\n",
       "      <td>16.0</td>\n",
       "      <td>2.4</td>\n",
       "      <td>0.0</td>\n",
       "      <td>...</td>\n",
       "      <td>53.0</td>\n",
       "      <td>170.0</td>\n",
       "      <td>11.0</td>\n",
       "      <td>0.0</td>\n",
       "      <td>137.0</td>\n",
       "      <td>134.0</td>\n",
       "      <td>137.0</td>\n",
       "      <td>13.0</td>\n",
       "      <td>1.0</td>\n",
       "      <td>1.0</td>\n",
       "    </tr>\n",
       "    <tr>\n",
       "      <th>4</th>\n",
       "      <td>132.0</td>\n",
       "      <td>0.006515</td>\n",
       "      <td>0.0</td>\n",
       "      <td>0.008143</td>\n",
       "      <td>0.000000</td>\n",
       "      <td>0.0</td>\n",
       "      <td>0.0</td>\n",
       "      <td>16.0</td>\n",
       "      <td>2.4</td>\n",
       "      <td>0.0</td>\n",
       "      <td>...</td>\n",
       "      <td>53.0</td>\n",
       "      <td>170.0</td>\n",
       "      <td>9.0</td>\n",
       "      <td>0.0</td>\n",
       "      <td>137.0</td>\n",
       "      <td>136.0</td>\n",
       "      <td>138.0</td>\n",
       "      <td>11.0</td>\n",
       "      <td>1.0</td>\n",
       "      <td>1.0</td>\n",
       "    </tr>\n",
       "  </tbody>\n",
       "</table>\n",
       "<p>5 rows × 22 columns</p>\n",
       "</div>"
      ],
      "text/plain": [
       "      LB      AC.1  FM.1      UC.1      DL.1  DS.1  DP.1  ASTV  MSTV  ALTV  \\\n",
       "0  120.0  0.000000   0.0  0.000000  0.000000   0.0   0.0  73.0   0.5  43.0   \n",
       "1  132.0  0.006380   0.0  0.006380  0.003190   0.0   0.0  17.0   2.1   0.0   \n",
       "2  133.0  0.003322   0.0  0.008306  0.003322   0.0   0.0  16.0   2.1   0.0   \n",
       "3  134.0  0.002561   0.0  0.007682  0.002561   0.0   0.0  16.0   2.4   0.0   \n",
       "4  132.0  0.006515   0.0  0.008143  0.000000   0.0   0.0  16.0   2.4   0.0   \n",
       "\n",
       "   ...   Min    Max  Nmax  Nzeros   Mode   Mean  Median  Variance  Tendency  \\\n",
       "0  ...  62.0  126.0   2.0     0.0  120.0  137.0   121.0      73.0       1.0   \n",
       "1  ...  68.0  198.0   6.0     1.0  141.0  136.0   140.0      12.0       0.0   \n",
       "2  ...  68.0  198.0   5.0     1.0  141.0  135.0   138.0      13.0       0.0   \n",
       "3  ...  53.0  170.0  11.0     0.0  137.0  134.0   137.0      13.0       1.0   \n",
       "4  ...  53.0  170.0   9.0     0.0  137.0  136.0   138.0      11.0       1.0   \n",
       "\n",
       "   NSP  \n",
       "0  2.0  \n",
       "1  1.0  \n",
       "2  1.0  \n",
       "3  1.0  \n",
       "4  1.0  \n",
       "\n",
       "[5 rows x 22 columns]"
      ]
     },
     "execution_count": 41,
     "metadata": {},
     "output_type": "execute_result"
    }
   ],
   "source": [
    "df.head()"
   ]
  },
  {
   "cell_type": "markdown",
   "metadata": {},
   "source": [
    "### **Types of features, categorical vs continuous**"
   ]
  },
  {
   "cell_type": "code",
   "execution_count": 42,
   "metadata": {},
   "outputs": [
    {
     "data": {
      "text/plain": [
       "array([dtype('float64')], dtype=object)"
      ]
     },
     "execution_count": 42,
     "metadata": {},
     "output_type": "execute_result"
    }
   ],
   "source": [
    "df.dtypes.unique()"
   ]
  },
  {
   "cell_type": "code",
   "execution_count": 43,
   "metadata": {},
   "outputs": [
    {
     "name": "stdout",
     "output_type": "stream",
     "text": [
      "Column: DS.1: 8 unique values\n",
      "0.000000    2119\n",
      "0.001079       1\n",
      "0.000948       1\n",
      "0.001029       1\n",
      "0.000890       1\n",
      "0.001353       1\n",
      "0.001178       1\n",
      "0.001144       1\n",
      "Name: DS.1, dtype: int64\n",
      "__________\n",
      "Column: Nzeros: 9 unique values\n",
      "0.0     1624\n",
      "1.0      366\n",
      "2.0      108\n",
      "3.0       21\n",
      "5.0        2\n",
      "4.0        2\n",
      "7.0        1\n",
      "8.0        1\n",
      "10.0       1\n",
      "Name: Nzeros, dtype: int64\n",
      "__________\n",
      "Column: Tendency: 3 unique values\n",
      " 0.0    1115\n",
      " 1.0     846\n",
      "-1.0     165\n",
      "Name: Tendency, dtype: int64\n",
      "__________\n",
      "Column: NSP: 3 unique values\n",
      "1.0    1655\n",
      "2.0     295\n",
      "3.0     176\n",
      "Name: NSP, dtype: int64\n",
      "__________\n"
     ]
    }
   ],
   "source": [
    "# Number of unique values per feature if unique <= 10\n",
    "for col in df.columns:\n",
    "    if df[col].nunique() <= 10:\n",
    "        print(f\"Column: {col}: {df[col].nunique()} unique values\")\n",
    "        print(pd.value_counts(df[col]))\n",
    "        print('_'*10)"
   ]
  },
  {
   "cell_type": "markdown",
   "metadata": {},
   "source": [
    "As ML algorithms will assume that 2 nearby values are more similiar than 2 distant values, **DS.1, Nzeros, Tendency** are in the right form and We don't need to change anything\n",
    "\n",
    "**NSP**: is the target column"
   ]
  },
  {
   "cell_type": "markdown",
   "metadata": {},
   "source": [
    "### Visualizing Dataset and Insights"
   ]
  },
  {
   "cell_type": "markdown",
   "metadata": {},
   "source": [
    "#### Missing Values and Outliers\n",
    "- The percentages of missing value"
   ]
  },
  {
   "cell_type": "code",
   "execution_count": 44,
   "metadata": {},
   "outputs": [
    {
     "data": {
      "text/plain": [
       "LB          0\n",
       "AC.1        0\n",
       "FM.1        0\n",
       "UC.1        0\n",
       "DL.1        0\n",
       "DS.1        0\n",
       "DP.1        0\n",
       "ASTV        0\n",
       "MSTV        0\n",
       "ALTV        0\n",
       "MLTV        0\n",
       "Width       0\n",
       "Min         0\n",
       "Max         0\n",
       "Nmax        0\n",
       "Nzeros      0\n",
       "Mode        0\n",
       "Mean        0\n",
       "Median      0\n",
       "Variance    0\n",
       "Tendency    0\n",
       "NSP         0\n",
       "dtype: int64"
      ]
     },
     "execution_count": 44,
     "metadata": {},
     "output_type": "execute_result"
    }
   ],
   "source": [
    "df.isnull().sum()"
   ]
  },
  {
   "cell_type": "markdown",
   "metadata": {},
   "source": [
    "**No Missing Values**"
   ]
  },
  {
   "cell_type": "markdown",
   "metadata": {},
   "source": [
    "#### Checking the data for outliers "
   ]
  },
  {
   "cell_type": "code",
   "execution_count": 45,
   "metadata": {},
   "outputs": [
    {
     "data": {
      "image/png": "[encoded data removed]",
      "text/plain": [
       "<Figure size 1800x1440 with 25 Axes>"
      ]
     },
     "metadata": {
      "needs_background": "light"
     },
     "output_type": "display_data"
    }
   ],
   "source": [
    "# Looking at the data\n",
    "df.hist(figsize=(25, 20))\n",
    "plt.show()"
   ]
  },
  {
   "cell_type": "markdown",
   "metadata": {},
   "source": [
    "according to the plots, we suspected **Variance** and **Max** columns to have outliers."
   ]
  },
  {
   "cell_type": "code",
   "execution_count": 46,
   "metadata": {},
   "outputs": [
    {
     "data": {
      "image/png": "[encoded data removed]",
      "text/plain": [
       "<Figure size 432x288 with 1 Axes>"
      ]
     },
     "metadata": {
      "needs_background": "light"
     },
     "output_type": "display_data"
    }
   ],
   "source": [
    "df['Variance'].hist()\n",
    "plt.show()"
   ]
  },
  {
   "cell_type": "code",
   "execution_count": 47,
   "metadata": {},
   "outputs": [
    {
     "data": {
      "text/plain": [
       "False    2120\n",
       "True        6\n",
       "Name: Variance, dtype: int64"
      ]
     },
     "execution_count": 47,
     "metadata": {},
     "output_type": "execute_result"
    }
   ],
   "source": [
    "pd.value_counts(df['Variance']>200)"
   ]
  },
  {
   "cell_type": "code",
   "execution_count": 48,
   "metadata": {},
   "outputs": [
    {
     "data": {
      "text/html": [
       "<div>\n",
       "<style scoped>\n",
       "    .dataframe tbody tr th:only-of-type {\n",
       "        vertical-align: middle;\n",
       "    }\n",
       "\n",
       "    .dataframe tbody tr th {\n",
       "        vertical-align: top;\n",
       "    }\n",
       "\n",
       "    .dataframe thead th {\n",
       "        text-align: right;\n",
       "    }\n",
       "</style>\n",
       "<table border=\"1\" class=\"dataframe\">\n",
       "  <thead>\n",
       "    <tr style=\"text-align: right;\">\n",
       "      <th></th>\n",
       "      <th>LB</th>\n",
       "      <th>AC.1</th>\n",
       "      <th>FM.1</th>\n",
       "      <th>UC.1</th>\n",
       "      <th>DL.1</th>\n",
       "      <th>DS.1</th>\n",
       "      <th>DP.1</th>\n",
       "      <th>ASTV</th>\n",
       "      <th>MSTV</th>\n",
       "      <th>ALTV</th>\n",
       "      <th>...</th>\n",
       "      <th>Min</th>\n",
       "      <th>Max</th>\n",
       "      <th>Nmax</th>\n",
       "      <th>Nzeros</th>\n",
       "      <th>Mode</th>\n",
       "      <th>Mean</th>\n",
       "      <th>Median</th>\n",
       "      <th>Variance</th>\n",
       "      <th>Tendency</th>\n",
       "      <th>NSP</th>\n",
       "    </tr>\n",
       "  </thead>\n",
       "  <tbody>\n",
       "    <tr>\n",
       "      <th>6</th>\n",
       "      <td>134.0</td>\n",
       "      <td>0.001403</td>\n",
       "      <td>0.000000</td>\n",
       "      <td>0.012623</td>\n",
       "      <td>0.008415</td>\n",
       "      <td>0.0</td>\n",
       "      <td>0.002805</td>\n",
       "      <td>29.0</td>\n",
       "      <td>6.3</td>\n",
       "      <td>0.0</td>\n",
       "      <td>...</td>\n",
       "      <td>50.0</td>\n",
       "      <td>200.0</td>\n",
       "      <td>6.0</td>\n",
       "      <td>3.0</td>\n",
       "      <td>71.0</td>\n",
       "      <td>107.0</td>\n",
       "      <td>106.0</td>\n",
       "      <td>215.0</td>\n",
       "      <td>0.0</td>\n",
       "      <td>3.0</td>\n",
       "    </tr>\n",
       "    <tr>\n",
       "      <th>1905</th>\n",
       "      <td>130.0</td>\n",
       "      <td>0.001460</td>\n",
       "      <td>0.000000</td>\n",
       "      <td>0.011679</td>\n",
       "      <td>0.013139</td>\n",
       "      <td>0.0</td>\n",
       "      <td>0.000000</td>\n",
       "      <td>62.0</td>\n",
       "      <td>2.0</td>\n",
       "      <td>0.0</td>\n",
       "      <td>...</td>\n",
       "      <td>50.0</td>\n",
       "      <td>177.0</td>\n",
       "      <td>7.0</td>\n",
       "      <td>0.0</td>\n",
       "      <td>60.0</td>\n",
       "      <td>95.0</td>\n",
       "      <td>112.0</td>\n",
       "      <td>269.0</td>\n",
       "      <td>0.0</td>\n",
       "      <td>3.0</td>\n",
       "    </tr>\n",
       "    <tr>\n",
       "      <th>1906</th>\n",
       "      <td>130.0</td>\n",
       "      <td>0.001307</td>\n",
       "      <td>0.001307</td>\n",
       "      <td>0.011765</td>\n",
       "      <td>0.010458</td>\n",
       "      <td>0.0</td>\n",
       "      <td>0.001307</td>\n",
       "      <td>62.0</td>\n",
       "      <td>2.2</td>\n",
       "      <td>0.0</td>\n",
       "      <td>...</td>\n",
       "      <td>50.0</td>\n",
       "      <td>211.0</td>\n",
       "      <td>9.0</td>\n",
       "      <td>0.0</td>\n",
       "      <td>60.0</td>\n",
       "      <td>89.0</td>\n",
       "      <td>113.0</td>\n",
       "      <td>250.0</td>\n",
       "      <td>0.0</td>\n",
       "      <td>3.0</td>\n",
       "    </tr>\n",
       "    <tr>\n",
       "      <th>1907</th>\n",
       "      <td>130.0</td>\n",
       "      <td>0.001548</td>\n",
       "      <td>0.001548</td>\n",
       "      <td>0.009288</td>\n",
       "      <td>0.009288</td>\n",
       "      <td>0.0</td>\n",
       "      <td>0.001548</td>\n",
       "      <td>63.0</td>\n",
       "      <td>2.3</td>\n",
       "      <td>0.0</td>\n",
       "      <td>...</td>\n",
       "      <td>50.0</td>\n",
       "      <td>211.0</td>\n",
       "      <td>5.0</td>\n",
       "      <td>0.0</td>\n",
       "      <td>60.0</td>\n",
       "      <td>88.0</td>\n",
       "      <td>113.0</td>\n",
       "      <td>254.0</td>\n",
       "      <td>-1.0</td>\n",
       "      <td>3.0</td>\n",
       "    </tr>\n",
       "    <tr>\n",
       "      <th>1908</th>\n",
       "      <td>130.0</td>\n",
       "      <td>0.001695</td>\n",
       "      <td>0.001695</td>\n",
       "      <td>0.008475</td>\n",
       "      <td>0.008475</td>\n",
       "      <td>0.0</td>\n",
       "      <td>0.001695</td>\n",
       "      <td>64.0</td>\n",
       "      <td>2.4</td>\n",
       "      <td>0.0</td>\n",
       "      <td>...</td>\n",
       "      <td>50.0</td>\n",
       "      <td>211.0</td>\n",
       "      <td>8.0</td>\n",
       "      <td>0.0</td>\n",
       "      <td>60.0</td>\n",
       "      <td>85.0</td>\n",
       "      <td>112.0</td>\n",
       "      <td>243.0</td>\n",
       "      <td>-1.0</td>\n",
       "      <td>3.0</td>\n",
       "    </tr>\n",
       "    <tr>\n",
       "      <th>1909</th>\n",
       "      <td>130.0</td>\n",
       "      <td>0.001931</td>\n",
       "      <td>0.001931</td>\n",
       "      <td>0.007722</td>\n",
       "      <td>0.007722</td>\n",
       "      <td>0.0</td>\n",
       "      <td>0.001931</td>\n",
       "      <td>64.0</td>\n",
       "      <td>2.5</td>\n",
       "      <td>0.0</td>\n",
       "      <td>...</td>\n",
       "      <td>50.0</td>\n",
       "      <td>211.0</td>\n",
       "      <td>7.0</td>\n",
       "      <td>0.0</td>\n",
       "      <td>60.0</td>\n",
       "      <td>83.0</td>\n",
       "      <td>114.0</td>\n",
       "      <td>241.0</td>\n",
       "      <td>-1.0</td>\n",
       "      <td>3.0</td>\n",
       "    </tr>\n",
       "  </tbody>\n",
       "</table>\n",
       "<p>6 rows × 22 columns</p>\n",
       "</div>"
      ],
      "text/plain": [
       "         LB      AC.1      FM.1      UC.1      DL.1  DS.1      DP.1  ASTV  \\\n",
       "6     134.0  0.001403  0.000000  0.012623  0.008415   0.0  0.002805  29.0   \n",
       "1905  130.0  0.001460  0.000000  0.011679  0.013139   0.0  0.000000  62.0   \n",
       "1906  130.0  0.001307  0.001307  0.011765  0.010458   0.0  0.001307  62.0   \n",
       "1907  130.0  0.001548  0.001548  0.009288  0.009288   0.0  0.001548  63.0   \n",
       "1908  130.0  0.001695  0.001695  0.008475  0.008475   0.0  0.001695  64.0   \n",
       "1909  130.0  0.001931  0.001931  0.007722  0.007722   0.0  0.001931  64.0   \n",
       "\n",
       "      MSTV  ALTV  ...   Min    Max  Nmax  Nzeros  Mode   Mean  Median  \\\n",
       "6      6.3   0.0  ...  50.0  200.0   6.0     3.0  71.0  107.0   106.0   \n",
       "1905   2.0   0.0  ...  50.0  177.0   7.0     0.0  60.0   95.0   112.0   \n",
       "1906   2.2   0.0  ...  50.0  211.0   9.0     0.0  60.0   89.0   113.0   \n",
       "1907   2.3   0.0  ...  50.0  211.0   5.0     0.0  60.0   88.0   113.0   \n",
       "1908   2.4   0.0  ...  50.0  211.0   8.0     0.0  60.0   85.0   112.0   \n",
       "1909   2.5   0.0  ...  50.0  211.0   7.0     0.0  60.0   83.0   114.0   \n",
       "\n",
       "      Variance  Tendency  NSP  \n",
       "6        215.0       0.0  3.0  \n",
       "1905     269.0       0.0  3.0  \n",
       "1906     250.0       0.0  3.0  \n",
       "1907     254.0      -1.0  3.0  \n",
       "1908     243.0      -1.0  3.0  \n",
       "1909     241.0      -1.0  3.0  \n",
       "\n",
       "[6 rows x 22 columns]"
      ]
     },
     "execution_count": 48,
     "metadata": {},
     "output_type": "execute_result"
    }
   ],
   "source": [
    "df[df['Variance'] > 200]"
   ]
  },
  {
   "cell_type": "markdown",
   "metadata": {},
   "source": [
    "According to the plot and the count of rows in the **Variance** column, We only have **6** points that are considered extreme but looking at the data they look somehow normal and all of them has the same target class which means they are more of extreme cases than being outliers. We can still make sure when we train the models and see if removing them will make a difference on the **validation accuracy**"
   ]
  },
  {
   "cell_type": "code",
   "execution_count": 49,
   "metadata": {},
   "outputs": [
    {
     "data": {
      "image/png": "[encoded data removed]",
      "text/plain": [
       "<Figure size 432x288 with 1 Axes>"
      ]
     },
     "metadata": {
      "needs_background": "light"
     },
     "output_type": "display_data"
    }
   ],
   "source": [
    "df['Max'].hist()\n",
    "plt.show()"
   ]
  },
  {
   "cell_type": "code",
   "execution_count": 50,
   "metadata": {},
   "outputs": [
    {
     "data": {
      "text/plain": [
       "False    2112\n",
       "True       14\n",
       "Name: Max, dtype: int64"
      ]
     },
     "execution_count": 50,
     "metadata": {},
     "output_type": "execute_result"
    }
   ],
   "source": [
    "pd.value_counts(df['Max']>220)"
   ]
  },
  {
   "cell_type": "code",
   "execution_count": 51,
   "metadata": {},
   "outputs": [
    {
     "data": {
      "text/html": [
       "<div>\n",
       "<style scoped>\n",
       "    .dataframe tbody tr th:only-of-type {\n",
       "        vertical-align: middle;\n",
       "    }\n",
       "\n",
       "    .dataframe tbody tr th {\n",
       "        vertical-align: top;\n",
       "    }\n",
       "\n",
       "    .dataframe thead th {\n",
       "        text-align: right;\n",
       "    }\n",
       "</style>\n",
       "<table border=\"1\" class=\"dataframe\">\n",
       "  <thead>\n",
       "    <tr style=\"text-align: right;\">\n",
       "      <th></th>\n",
       "      <th>LB</th>\n",
       "      <th>AC.1</th>\n",
       "      <th>FM.1</th>\n",
       "      <th>UC.1</th>\n",
       "      <th>DL.1</th>\n",
       "      <th>DS.1</th>\n",
       "      <th>DP.1</th>\n",
       "      <th>ASTV</th>\n",
       "      <th>MSTV</th>\n",
       "      <th>ALTV</th>\n",
       "      <th>...</th>\n",
       "      <th>Min</th>\n",
       "      <th>Max</th>\n",
       "      <th>Nmax</th>\n",
       "      <th>Nzeros</th>\n",
       "      <th>Mode</th>\n",
       "      <th>Mean</th>\n",
       "      <th>Median</th>\n",
       "      <th>Variance</th>\n",
       "      <th>Tendency</th>\n",
       "      <th>NSP</th>\n",
       "    </tr>\n",
       "  </thead>\n",
       "  <tbody>\n",
       "    <tr>\n",
       "      <th>1674</th>\n",
       "      <td>110.0</td>\n",
       "      <td>0.002629</td>\n",
       "      <td>0.000000</td>\n",
       "      <td>0.006135</td>\n",
       "      <td>0.003506</td>\n",
       "      <td>0.0</td>\n",
       "      <td>0.000000</td>\n",
       "      <td>64.0</td>\n",
       "      <td>1.7</td>\n",
       "      <td>0.0</td>\n",
       "      <td>...</td>\n",
       "      <td>62.0</td>\n",
       "      <td>238.0</td>\n",
       "      <td>13.0</td>\n",
       "      <td>1.0</td>\n",
       "      <td>107.0</td>\n",
       "      <td>103.0</td>\n",
       "      <td>107.0</td>\n",
       "      <td>35.0</td>\n",
       "      <td>-1.0</td>\n",
       "      <td>1.0</td>\n",
       "    </tr>\n",
       "    <tr>\n",
       "      <th>1676</th>\n",
       "      <td>110.0</td>\n",
       "      <td>0.003264</td>\n",
       "      <td>0.000000</td>\n",
       "      <td>0.006529</td>\n",
       "      <td>0.004353</td>\n",
       "      <td>0.0</td>\n",
       "      <td>0.000000</td>\n",
       "      <td>63.0</td>\n",
       "      <td>2.4</td>\n",
       "      <td>0.0</td>\n",
       "      <td>...</td>\n",
       "      <td>62.0</td>\n",
       "      <td>238.0</td>\n",
       "      <td>10.0</td>\n",
       "      <td>1.0</td>\n",
       "      <td>98.0</td>\n",
       "      <td>101.0</td>\n",
       "      <td>105.0</td>\n",
       "      <td>59.0</td>\n",
       "      <td>-1.0</td>\n",
       "      <td>1.0</td>\n",
       "    </tr>\n",
       "    <tr>\n",
       "      <th>1677</th>\n",
       "      <td>110.0</td>\n",
       "      <td>0.003788</td>\n",
       "      <td>0.000000</td>\n",
       "      <td>0.009470</td>\n",
       "      <td>0.004735</td>\n",
       "      <td>0.0</td>\n",
       "      <td>0.000000</td>\n",
       "      <td>63.0</td>\n",
       "      <td>2.7</td>\n",
       "      <td>0.0</td>\n",
       "      <td>...</td>\n",
       "      <td>62.0</td>\n",
       "      <td>238.0</td>\n",
       "      <td>9.0</td>\n",
       "      <td>0.0</td>\n",
       "      <td>95.0</td>\n",
       "      <td>98.0</td>\n",
       "      <td>106.0</td>\n",
       "      <td>61.0</td>\n",
       "      <td>-1.0</td>\n",
       "      <td>1.0</td>\n",
       "    </tr>\n",
       "    <tr>\n",
       "      <th>1678</th>\n",
       "      <td>110.0</td>\n",
       "      <td>0.002757</td>\n",
       "      <td>0.000000</td>\n",
       "      <td>0.007581</td>\n",
       "      <td>0.004135</td>\n",
       "      <td>0.0</td>\n",
       "      <td>0.000000</td>\n",
       "      <td>64.0</td>\n",
       "      <td>2.1</td>\n",
       "      <td>0.0</td>\n",
       "      <td>...</td>\n",
       "      <td>62.0</td>\n",
       "      <td>238.0</td>\n",
       "      <td>10.0</td>\n",
       "      <td>0.0</td>\n",
       "      <td>107.0</td>\n",
       "      <td>101.0</td>\n",
       "      <td>108.0</td>\n",
       "      <td>33.0</td>\n",
       "      <td>-1.0</td>\n",
       "      <td>1.0</td>\n",
       "    </tr>\n",
       "    <tr>\n",
       "      <th>1679</th>\n",
       "      <td>110.0</td>\n",
       "      <td>0.004342</td>\n",
       "      <td>0.000620</td>\n",
       "      <td>0.008685</td>\n",
       "      <td>0.003722</td>\n",
       "      <td>0.0</td>\n",
       "      <td>0.000000</td>\n",
       "      <td>64.0</td>\n",
       "      <td>2.2</td>\n",
       "      <td>0.0</td>\n",
       "      <td>...</td>\n",
       "      <td>62.0</td>\n",
       "      <td>238.0</td>\n",
       "      <td>7.0</td>\n",
       "      <td>0.0</td>\n",
       "      <td>107.0</td>\n",
       "      <td>103.0</td>\n",
       "      <td>109.0</td>\n",
       "      <td>42.0</td>\n",
       "      <td>-1.0</td>\n",
       "      <td>1.0</td>\n",
       "    </tr>\n",
       "    <tr>\n",
       "      <th>1680</th>\n",
       "      <td>110.0</td>\n",
       "      <td>0.003538</td>\n",
       "      <td>0.000590</td>\n",
       "      <td>0.009434</td>\n",
       "      <td>0.002948</td>\n",
       "      <td>0.0</td>\n",
       "      <td>0.000000</td>\n",
       "      <td>64.0</td>\n",
       "      <td>1.8</td>\n",
       "      <td>0.0</td>\n",
       "      <td>...</td>\n",
       "      <td>62.0</td>\n",
       "      <td>238.0</td>\n",
       "      <td>7.0</td>\n",
       "      <td>0.0</td>\n",
       "      <td>110.0</td>\n",
       "      <td>106.0</td>\n",
       "      <td>110.0</td>\n",
       "      <td>36.0</td>\n",
       "      <td>-1.0</td>\n",
       "      <td>1.0</td>\n",
       "    </tr>\n",
       "    <tr>\n",
       "      <th>1920</th>\n",
       "      <td>140.0</td>\n",
       "      <td>0.002613</td>\n",
       "      <td>0.000871</td>\n",
       "      <td>0.006969</td>\n",
       "      <td>0.005226</td>\n",
       "      <td>0.0</td>\n",
       "      <td>0.000000</td>\n",
       "      <td>63.0</td>\n",
       "      <td>1.5</td>\n",
       "      <td>0.0</td>\n",
       "      <td>...</td>\n",
       "      <td>75.0</td>\n",
       "      <td>228.0</td>\n",
       "      <td>9.0</td>\n",
       "      <td>0.0</td>\n",
       "      <td>142.0</td>\n",
       "      <td>120.0</td>\n",
       "      <td>142.0</td>\n",
       "      <td>22.0</td>\n",
       "      <td>0.0</td>\n",
       "      <td>1.0</td>\n",
       "    </tr>\n",
       "    <tr>\n",
       "      <th>1921</th>\n",
       "      <td>140.0</td>\n",
       "      <td>0.001923</td>\n",
       "      <td>0.002885</td>\n",
       "      <td>0.005769</td>\n",
       "      <td>0.005769</td>\n",
       "      <td>0.0</td>\n",
       "      <td>0.000000</td>\n",
       "      <td>62.0</td>\n",
       "      <td>1.6</td>\n",
       "      <td>0.0</td>\n",
       "      <td>...</td>\n",
       "      <td>75.0</td>\n",
       "      <td>228.0</td>\n",
       "      <td>9.0</td>\n",
       "      <td>0.0</td>\n",
       "      <td>142.0</td>\n",
       "      <td>118.0</td>\n",
       "      <td>142.0</td>\n",
       "      <td>20.0</td>\n",
       "      <td>0.0</td>\n",
       "      <td>1.0</td>\n",
       "    </tr>\n",
       "    <tr>\n",
       "      <th>1922</th>\n",
       "      <td>140.0</td>\n",
       "      <td>0.001764</td>\n",
       "      <td>0.001764</td>\n",
       "      <td>0.004409</td>\n",
       "      <td>0.005291</td>\n",
       "      <td>0.0</td>\n",
       "      <td>0.000000</td>\n",
       "      <td>63.0</td>\n",
       "      <td>1.3</td>\n",
       "      <td>1.0</td>\n",
       "      <td>...</td>\n",
       "      <td>75.0</td>\n",
       "      <td>228.0</td>\n",
       "      <td>7.0</td>\n",
       "      <td>0.0</td>\n",
       "      <td>142.0</td>\n",
       "      <td>121.0</td>\n",
       "      <td>143.0</td>\n",
       "      <td>17.0</td>\n",
       "      <td>0.0</td>\n",
       "      <td>1.0</td>\n",
       "    </tr>\n",
       "    <tr>\n",
       "      <th>1923</th>\n",
       "      <td>140.0</td>\n",
       "      <td>0.000923</td>\n",
       "      <td>0.001845</td>\n",
       "      <td>0.005535</td>\n",
       "      <td>0.005535</td>\n",
       "      <td>0.0</td>\n",
       "      <td>0.000000</td>\n",
       "      <td>63.0</td>\n",
       "      <td>1.5</td>\n",
       "      <td>1.0</td>\n",
       "      <td>...</td>\n",
       "      <td>65.0</td>\n",
       "      <td>228.0</td>\n",
       "      <td>5.0</td>\n",
       "      <td>1.0</td>\n",
       "      <td>142.0</td>\n",
       "      <td>118.0</td>\n",
       "      <td>141.0</td>\n",
       "      <td>27.0</td>\n",
       "      <td>0.0</td>\n",
       "      <td>1.0</td>\n",
       "    </tr>\n",
       "    <tr>\n",
       "      <th>1924</th>\n",
       "      <td>140.0</td>\n",
       "      <td>0.000924</td>\n",
       "      <td>0.002773</td>\n",
       "      <td>0.004621</td>\n",
       "      <td>0.005545</td>\n",
       "      <td>0.0</td>\n",
       "      <td>0.000000</td>\n",
       "      <td>62.0</td>\n",
       "      <td>1.5</td>\n",
       "      <td>1.0</td>\n",
       "      <td>...</td>\n",
       "      <td>65.0</td>\n",
       "      <td>228.0</td>\n",
       "      <td>5.0</td>\n",
       "      <td>1.0</td>\n",
       "      <td>142.0</td>\n",
       "      <td>118.0</td>\n",
       "      <td>142.0</td>\n",
       "      <td>27.0</td>\n",
       "      <td>0.0</td>\n",
       "      <td>1.0</td>\n",
       "    </tr>\n",
       "    <tr>\n",
       "      <th>2023</th>\n",
       "      <td>129.0</td>\n",
       "      <td>0.000000</td>\n",
       "      <td>0.001812</td>\n",
       "      <td>0.005435</td>\n",
       "      <td>0.012681</td>\n",
       "      <td>0.0</td>\n",
       "      <td>0.000000</td>\n",
       "      <td>58.0</td>\n",
       "      <td>4.3</td>\n",
       "      <td>0.0</td>\n",
       "      <td>...</td>\n",
       "      <td>72.0</td>\n",
       "      <td>230.0</td>\n",
       "      <td>10.0</td>\n",
       "      <td>1.0</td>\n",
       "      <td>111.0</td>\n",
       "      <td>88.0</td>\n",
       "      <td>126.0</td>\n",
       "      <td>33.0</td>\n",
       "      <td>-1.0</td>\n",
       "      <td>1.0</td>\n",
       "    </tr>\n",
       "    <tr>\n",
       "      <th>2024</th>\n",
       "      <td>129.0</td>\n",
       "      <td>0.000000</td>\n",
       "      <td>0.001669</td>\n",
       "      <td>0.005008</td>\n",
       "      <td>0.013356</td>\n",
       "      <td>0.0</td>\n",
       "      <td>0.000000</td>\n",
       "      <td>58.0</td>\n",
       "      <td>3.9</td>\n",
       "      <td>0.0</td>\n",
       "      <td>...</td>\n",
       "      <td>72.0</td>\n",
       "      <td>230.0</td>\n",
       "      <td>10.0</td>\n",
       "      <td>1.0</td>\n",
       "      <td>113.0</td>\n",
       "      <td>90.0</td>\n",
       "      <td>124.0</td>\n",
       "      <td>28.0</td>\n",
       "      <td>-1.0</td>\n",
       "      <td>1.0</td>\n",
       "    </tr>\n",
       "    <tr>\n",
       "      <th>2029</th>\n",
       "      <td>129.0</td>\n",
       "      <td>0.000000</td>\n",
       "      <td>0.000750</td>\n",
       "      <td>0.006747</td>\n",
       "      <td>0.006747</td>\n",
       "      <td>0.0</td>\n",
       "      <td>0.002249</td>\n",
       "      <td>65.0</td>\n",
       "      <td>3.1</td>\n",
       "      <td>0.0</td>\n",
       "      <td>...</td>\n",
       "      <td>50.0</td>\n",
       "      <td>230.0</td>\n",
       "      <td>10.0</td>\n",
       "      <td>1.0</td>\n",
       "      <td>105.0</td>\n",
       "      <td>83.0</td>\n",
       "      <td>112.0</td>\n",
       "      <td>14.0</td>\n",
       "      <td>-1.0</td>\n",
       "      <td>3.0</td>\n",
       "    </tr>\n",
       "  </tbody>\n",
       "</table>\n",
       "<p>14 rows × 22 columns</p>\n",
       "</div>"
      ],
      "text/plain": [
       "         LB      AC.1      FM.1      UC.1      DL.1  DS.1      DP.1  ASTV  \\\n",
       "1674  110.0  0.002629  0.000000  0.006135  0.003506   0.0  0.000000  64.0   \n",
       "1676  110.0  0.003264  0.000000  0.006529  0.004353   0.0  0.000000  63.0   \n",
       "1677  110.0  0.003788  0.000000  0.009470  0.004735   0.0  0.000000  63.0   \n",
       "1678  110.0  0.002757  0.000000  0.007581  0.004135   0.0  0.000000  64.0   \n",
       "1679  110.0  0.004342  0.000620  0.008685  0.003722   0.0  0.000000  64.0   \n",
       "1680  110.0  0.003538  0.000590  0.009434  0.002948   0.0  0.000000  64.0   \n",
       "1920  140.0  0.002613  0.000871  0.006969  0.005226   0.0  0.000000  63.0   \n",
       "1921  140.0  0.001923  0.002885  0.005769  0.005769   0.0  0.000000  62.0   \n",
       "1922  140.0  0.001764  0.001764  0.004409  0.005291   0.0  0.000000  63.0   \n",
       "1923  140.0  0.000923  0.001845  0.005535  0.005535   0.0  0.000000  63.0   \n",
       "1924  140.0  0.000924  0.002773  0.004621  0.005545   0.0  0.000000  62.0   \n",
       "2023  129.0  0.000000  0.001812  0.005435  0.012681   0.0  0.000000  58.0   \n",
       "2024  129.0  0.000000  0.001669  0.005008  0.013356   0.0  0.000000  58.0   \n",
       "2029  129.0  0.000000  0.000750  0.006747  0.006747   0.0  0.002249  65.0   \n",
       "\n",
       "      MSTV  ALTV  ...   Min    Max  Nmax  Nzeros   Mode   Mean  Median  \\\n",
       "1674   1.7   0.0  ...  62.0  238.0  13.0     1.0  107.0  103.0   107.0   \n",
       "1676   2.4   0.0  ...  62.0  238.0  10.0     1.0   98.0  101.0   105.0   \n",
       "1677   2.7   0.0  ...  62.0  238.0   9.0     0.0   95.0   98.0   106.0   \n",
       "1678   2.1   0.0  ...  62.0  238.0  10.0     0.0  107.0  101.0   108.0   \n",
       "1679   2.2   0.0  ...  62.0  238.0   7.0     0.0  107.0  103.0   109.0   \n",
       "1680   1.8   0.0  ...  62.0  238.0   7.0     0.0  110.0  106.0   110.0   \n",
       "1920   1.5   0.0  ...  75.0  228.0   9.0     0.0  142.0  120.0   142.0   \n",
       "1921   1.6   0.0  ...  75.0  228.0   9.0     0.0  142.0  118.0   142.0   \n",
       "1922   1.3   1.0  ...  75.0  228.0   7.0     0.0  142.0  121.0   143.0   \n",
       "1923   1.5   1.0  ...  65.0  228.0   5.0     1.0  142.0  118.0   141.0   \n",
       "1924   1.5   1.0  ...  65.0  228.0   5.0     1.0  142.0  118.0   142.0   \n",
       "2023   4.3   0.0  ...  72.0  230.0  10.0     1.0  111.0   88.0   126.0   \n",
       "2024   3.9   0.0  ...  72.0  230.0  10.0     1.0  113.0   90.0   124.0   \n",
       "2029   3.1   0.0  ...  50.0  230.0  10.0     1.0  105.0   83.0   112.0   \n",
       "\n",
       "      Variance  Tendency  NSP  \n",
       "1674      35.0      -1.0  1.0  \n",
       "1676      59.0      -1.0  1.0  \n",
       "1677      61.0      -1.0  1.0  \n",
       "1678      33.0      -1.0  1.0  \n",
       "1679      42.0      -1.0  1.0  \n",
       "1680      36.0      -1.0  1.0  \n",
       "1920      22.0       0.0  1.0  \n",
       "1921      20.0       0.0  1.0  \n",
       "1922      17.0       0.0  1.0  \n",
       "1923      27.0       0.0  1.0  \n",
       "1924      27.0       0.0  1.0  \n",
       "2023      33.0      -1.0  1.0  \n",
       "2024      28.0      -1.0  1.0  \n",
       "2029      14.0      -1.0  3.0  \n",
       "\n",
       "[14 rows x 22 columns]"
      ]
     },
     "execution_count": 51,
     "metadata": {},
     "output_type": "execute_result"
    }
   ],
   "source": [
    "df[df['Max']>220]"
   ]
  },
  {
   "cell_type": "markdown",
   "metadata": {},
   "source": [
    "Same goes with **Max**, we should also keep in mind that **Variance** and **Max** both are features of a **Histogram** data which means they can go high sometimes"
   ]
  },
  {
   "cell_type": "markdown",
   "metadata": {},
   "source": [
    "###  Other Plots and Insights "
   ]
  },
  {
   "cell_type": "code",
   "execution_count": 52,
   "metadata": {},
   "outputs": [
    {
     "data": {
      "image/png": "[encoded data removed]",
      "text/plain": [
       "<Figure size 432x288 with 1 Axes>"
      ]
     },
     "metadata": {
      "needs_background": "light"
     },
     "output_type": "display_data"
    }
   ],
   "source": [
    "# The Target Class\n",
    "nsp_counts = pd.DataFrame(pd.value_counts(df['NSP']))['NSP'].to_numpy()\n",
    "nsp_labels = pd.DataFrame(pd.value_counts(df['NSP'])).index\n",
    "\n",
    "line = plt.bar(nsp_labels, nsp_counts)\n",
    "plt.xlabel('Target')\n",
    "plt.ylabel(\"Number of items\")\n",
    "\n",
    "for i in range(len(nsp_counts)):\n",
    "    plt.annotate(str(nsp_counts[i]), xy=(nsp_labels[i], nsp_counts[i]), ha='center', va='bottom')\n",
    "\n",
    "plt.show()"
   ]
  },
  {
   "cell_type": "markdown",
   "metadata": {},
   "source": [
    "**We have 3 classes and clearly they are unbalanced**"
   ]
  },
  {
   "cell_type": "code",
   "execution_count": 53,
   "metadata": {},
   "outputs": [
    {
     "data": {
      "image/png": "[encoded data removed]",
      "text/plain": [
       "<Figure size 1080x720 with 2 Axes>"
      ]
     },
     "metadata": {
      "needs_background": "light"
     },
     "output_type": "display_data"
    }
   ],
   "source": [
    "import seaborn as sns\n",
    "\n",
    "f, ax = plt.subplots(figsize=(15, 10))\n",
    "corr = df.corr()\n",
    "sns.heatmap(corr, mask=np.zeros_like(corr, dtype=np.bool), cmap=sns.diverging_palette(220, 10, as_cmap=True),\n",
    "            square=True, ax=ax)\n",
    "plt.title('The Correlation Between Features')\n",
    "plt.show()"
   ]
  },
  {
   "cell_type": "code",
   "execution_count": 54,
   "metadata": {},
   "outputs": [],
   "source": [
    "labels =pd.DataFrame(corr['NSP'].sort_values(ascending=False)).index[1:]\n",
    "values = pd.DataFrame(corr['NSP'].sort_values(ascending=False))['NSP'].to_numpy()[1:]"
   ]
  },
  {
   "cell_type": "code",
   "execution_count": 55,
   "metadata": {},
   "outputs": [
    {
     "data": {
      "image/png": "[encoded data removed]",
      "text/plain": [
       "<Figure size 1080x576 with 1 Axes>"
      ]
     },
     "metadata": {
      "needs_background": "light"
     },
     "output_type": "display_data"
    }
   ],
   "source": [
    "plt.figure(figsize=(15, 8))\n",
    "line = plt.bar(labels, values)\n",
    "plt.xlabel('Features')\n",
    "plt.ylabel('Correlation with NSP')\n",
    "plt.title('The Correlation Between Features and the Target Column NSP')\n",
    "plt.show()"
   ]
  },
  {
   "cell_type": "markdown",
   "metadata": {},
   "source": [
    "There is some *possitive correlation* between the target column **NSP** and other columns like **ALTV, ASTV, DP.1**\n",
    "and *negative correlation* with **AC.1**. We can check the importance of these features using the *feature importance of RandomForest* later"
   ]
  },
  {
   "cell_type": "markdown",
   "metadata": {},
   "source": [
    "#### Feature Scalling  \n",
    "The reason for using **StandardScaler** and not **MinMaxScaler** is that **MinMaxScaler** is more affected by outliers (Extreme values)\n",
    "\n",
    "Scaling the data will help the models have a better an faster fit. As most ML models don't perform well when the input features have different scales."
   ]
  },
  {
   "cell_type": "code",
   "execution_count": 56,
   "metadata": {},
   "outputs": [],
   "source": [
    "#input the modified df\n",
    "#output the data splits ready to model\n",
    "def prepare_df(df, verbose=True, scale=True):\n",
    "    # getting the features and targets\n",
    "    x = df.iloc[:, :-1]\n",
    "    y = df['NSP']\n",
    "    \n",
    "    # using stratify to handle unbalanced classes while splitting the data\n",
    "    x_train, x_valid, y_train, y_valid = train_test_split(x, y, test_size=0.2, stratify=y, random_state=42)\n",
    "    \n",
    "    if verbose:\n",
    "        print('----- Data Splits Summary -----')\n",
    "        print(f'train size: {x_train.shape[0]} | valid size: {x_valid.shape[0]}')\n",
    "\n",
    "        # percentage of each class in train and valid\n",
    "        print('\\nPercentage of classes in the train dataset:')\n",
    "        target_classes = [1., 2., 3.]\n",
    "        for i in target_classes:\n",
    "            print(f'Class {i}: {(y_train==i).sum()/y_train.shape[0]:.3f}')\n",
    "\n",
    "        print('\\nPercentage of classes in the valid dataset:')\n",
    "        for i in target_classes:\n",
    "            print(f'Class {i}: {(y_valid==i).sum()/y_valid.shape[0]:.3f}')\n",
    "            \n",
    "        \n",
    "    # Scaling the data\n",
    "    if scale:\n",
    "        scaler = StandardScaler()\n",
    "\n",
    "        x_train = scaler.fit_transform(x_train)\n",
    "        x_valid = scaler.transform(x_valid)\n",
    "        \n",
    "    return x_train, y_train, x_valid, y_valid"
   ]
  },
  {
   "cell_type": "code",
   "execution_count": 57,
   "metadata": {},
   "outputs": [
    {
     "name": "stdout",
     "output_type": "stream",
     "text": [
      "----- Data Splits Summary -----\n",
      "train size: 1700 | valid size: 426\n",
      "\n",
      "Percentage of classes in the train dataset:\n",
      "Class 1.0: 0.778\n",
      "Class 2.0: 0.139\n",
      "Class 3.0: 0.083\n",
      "\n",
      "Percentage of classes in the valid dataset:\n",
      "Class 1.0: 0.779\n",
      "Class 2.0: 0.138\n",
      "Class 3.0: 0.082\n"
     ]
    }
   ],
   "source": [
    "# We need to fit the Scaler to training data only and then transform the validation\n",
    "# so we need to split the data first\n",
    "x_train, y_train, x_valid, y_valid = prepare_df(df)"
   ]
  },
  {
   "cell_type": "markdown",
   "metadata": {},
   "source": [
    "As our data is unbalanced splitting it randomly between the training and validation dataset could lead to unbalanced training or validation dataset. The training set could have more values from one class (mostly the dominating one) so the model will learn to output this class more.\n",
    "\n",
    "To avoid this we use **Stratify** so our training and dataset have equal percentages of different target classes"
   ]
  },
  {
   "cell_type": "markdown",
   "metadata": {},
   "source": [
    "## Modeling \n",
    "Models I will be using\n",
    "- RandomForest\n",
    "- KNearestNeighbours\n",
    "- Stocastic Gradient Descent\n",
    " - Support Vector Machine"
   ]
  },
  {
   "cell_type": "code",
   "execution_count": 58,
   "metadata": {},
   "outputs": [],
   "source": [
    "# helper functions for RandomForests\n",
    "# puts the feature importance of RandomForest in a DataFrame\n",
    "def rf_feat_importance(m, df):\n",
    "    return pd.DataFrame({'cols':df.columns[:-1], 'imp':m.feature_importances_}\n",
    "                       ).sort_values('imp', ascending=False)\n",
    "\n",
    "# Plots the feature importance using the DataFrame\n",
    "def plot_fi(fi):\n",
    "    return fi.plot('cols', 'imp', 'barh', figsize=(12,7), legend=False)"
   ]
  },
  {
   "cell_type": "code",
   "execution_count": 59,
   "metadata": {},
   "outputs": [],
   "source": [
    "# fit_model\n",
    "# takes a model and datasets as input and outputs the scores\n",
    "def fit_model(model, x_train, y_train, x_valid, y_valid, return_scores=False):\n",
    "    # fitting the model\n",
    "    model.fit(x_train, y_train)\n",
    "    \n",
    "    # Scores\n",
    "    train_score = model.score(x_train, y_train)\n",
    "    y_pred = model.predict(x_valid)\n",
    "    valid_score = accuracy_score(y_pred, y_valid)\n",
    "    conf_mx = confusion_matrix(y_valid, y_pred)\n",
    "    precision = precision_score(y_valid, y_pred, average='weighted')\n",
    "    recall = recall_score(y_valid, y_pred, average='weighted')\n",
    "    f1 = f1_score(y_valid, y_pred, average='weighted')\n",
    "    balanced = balanced_accuracy_score(y_valid, y_pred)\n",
    "\n",
    "    if return_scores:\n",
    "        return train_score, valid_score, balanced, precision, recall, f1\n",
    "    \n",
    "    print('----- Model Scores -----')\n",
    "    print(f\"train score: {train_score:.4f} | valid score: {valid_score:.4f}\")\n",
    "    print(f\"precision  : {precision:.4f} | recall     : {recall:.4f}\")\n",
    "    print(f\"f1 score   : {f1:.4f} | balanced   : {balanced:.4f}\")\n",
    "    plot_confusion_matrix(model, x_valid, y_valid, display_labels=['Normal', 'Suspect', 'Pathologic'],\n",
    "                         values_format='')\n",
    "\n",
    "    return model"
   ]
  },
  {
   "cell_type": "markdown",
   "metadata": {},
   "source": [
    "### Random Forest Classifier "
   ]
  },
  {
   "cell_type": "code",
   "execution_count": 60,
   "metadata": {},
   "outputs": [
    {
     "name": "stdout",
     "output_type": "stream",
     "text": [
      "----- Model Scores -----\n",
      "train score: 0.9994 | valid score: 0.9319\n",
      "precision  : 0.9297 | recall     : 0.9319\n",
      "f1 score   : 0.9297 | balanced   : 0.8493\n"
     ]
    },
    {
     "data": {
      "image/png": "[encoded data removed]",
      "text/plain": [
       "<Figure size 432x288 with 2 Axes>"
      ]
     },
     "metadata": {
      "needs_background": "light"
     },
     "output_type": "display_data"
    }
   ],
   "source": [
    "# trying the base model after removing the features\n",
    "rf = RandomForestClassifier(random_state=42)\n",
    "rf = fit_model(rf, x_train, y_train, x_valid, y_valid)"
   ]
  },
  {
   "cell_type": "code",
   "execution_count": 61,
   "metadata": {},
   "outputs": [
    {
     "name": "stdout",
     "output_type": "stream",
     "text": [
      "----- Data Splits Summary -----\n",
      "train size: 1700 | valid size: 426\n",
      "\n",
      "Percentage of classes in the train dataset:\n",
      "Class 1.0: 0.778\n",
      "Class 2.0: 0.139\n",
      "Class 3.0: 0.083\n",
      "\n",
      "Percentage of classes in the valid dataset:\n",
      "Class 1.0: 0.779\n",
      "Class 2.0: 0.138\n",
      "Class 3.0: 0.082\n",
      "----- Model Scores -----\n",
      "train score: 0.9994 | valid score: 0.9319\n",
      "precision  : 0.9295 | recall     : 0.9319\n",
      "f1 score   : 0.9299 | balanced   : 0.8493\n"
     ]
    },
    {
     "data": {
      "image/png": "[encoded data removed]",
      "text/plain": [
       "<Figure size 432x288 with 2 Axes>"
      ]
     },
     "metadata": {
      "needs_background": "light"
     },
     "output_type": "display_data"
    }
   ],
   "source": [
    "x_train, y_train, x_valid, y_valid = prepare_df(df, scale=False)\n",
    "# trying the base model after removing the features\n",
    "rf = RandomForestClassifier(random_state=42)\n",
    "rf = fit_model(rf, x_train, y_train, x_valid, y_valid)"
   ]
  },
  {
   "cell_type": "markdown",
   "metadata": {},
   "source": [
    "Here we get good scores on the validation set **0.9319** with very close **precision** and **recall** values.\n",
    "\n",
    "We got a **balanced score of 84.9%** as the unbalanced data is *influencing the normal scores*. \n",
    "\n",
    "Also from the **Confusion Matrix** Most of our classes are predicted correctly. But some **Suspect** items are predicted as **Normal** as we know the model will be somehow baised towards the dominating class.\n",
    "The model now will produce more **Normal** outputs and we don't need this as it will put people's lives into danger if it missclassified a patient as **normal** and he is **Suspect/Pathologic**\n",
    "\n",
    "So we will have to fix it. We would prefere the model to have a **high recall** as we need it to classify more patients as **Suspect/Pathologic** instead of **Normal** even if it is not fully confident. In this case these scans can be rexamined by doctors and make sure that they are correctly classified."
   ]
  },
  {
   "cell_type": "markdown",
   "metadata": {},
   "source": [
    "#### Choosing the best parameters for Random Forest Classifier \n",
    "- `n_estimators`: The number of trees\n",
    "- `max_features`: How to calculate the number of features to use"
   ]
  },
  {
   "cell_type": "code",
   "execution_count": 62,
   "metadata": {},
   "outputs": [],
   "source": [
    "clfs = [\n",
    "    (\"RandomForestClassifier, max_features='log2'\",\n",
    "        RandomForestClassifier(warm_start=True, oob_score=True,\n",
    "                               max_features=\"log2\",\n",
    "                               random_state=42)),\n",
    "    (\"RandomForestClassifier, max_features='sqrt'\",\n",
    "        RandomForestClassifier(warm_start=True, max_features='sqrt',\n",
    "                               oob_score=True,\n",
    "                               random_state=42)),\n",
    "    (\"RandomForestClassifier, max_features=None\",\n",
    "        RandomForestClassifier(warm_start=True, max_features=None,\n",
    "                               oob_score=True,\n",
    "                               random_state=42))\n",
    "]"
   ]
  },
  {
   "cell_type": "code",
   "execution_count": 63,
   "metadata": {},
   "outputs": [],
   "source": [
    "error_rate = dict((label, []) for label, _ in clfs)\n",
    "min_estimators = 15\n",
    "max_estimators = 175"
   ]
  },
  {
   "cell_type": "code",
   "execution_count": 64,
   "metadata": {},
   "outputs": [],
   "source": [
    "def calc_time(start_time, end_time):\n",
    "    elapsed_time = end_time - start_time\n",
    "    elapsed_mins = int(elapsed_time / 60)\n",
    "    elapsed_secs = int(elapsed_time - (elapsed_mins * 60))\n",
    "    return elapsed_mins, elapsed_secs"
   ]
  },
  {
   "cell_type": "code",
   "execution_count": 65,
   "metadata": {
    "scrolled": true
   },
   "outputs": [],
   "source": [
    "start_time = time.time()\n",
    "for label, clf in clfs:\n",
    "    for i in range(min_estimators, max_estimators+1):\n",
    "        clf.set_params(n_estimators=i)\n",
    "        clf.fit(x_train, y_train)\n",
    "        \n",
    "        oob_error = clf.oob_score_\n",
    "        error_rate[label].append((i, oob_error))\n",
    "\n",
    "end_time = time.time()\n",
    "mins, secs = calc_time(start_time, end_time)"
   ]
  },
  {
   "cell_type": "code",
   "execution_count": 66,
   "metadata": {},
   "outputs": [
    {
     "data": {
      "image/png": "[encoded data removed]",
      "text/plain": [
       "<Figure size 1080x576 with 1 Axes>"
      ]
     },
     "metadata": {
      "needs_background": "light"
     },
     "output_type": "display_data"
    },
    {
     "name": "stdout",
     "output_type": "stream",
     "text": [
      "Time taken: 0m21s\n"
     ]
    },
    {
     "data": {
      "text/html": [
       "<div>\n",
       "<style scoped>\n",
       "    .dataframe tbody tr th:only-of-type {\n",
       "        vertical-align: middle;\n",
       "    }\n",
       "\n",
       "    .dataframe tbody tr th {\n",
       "        vertical-align: top;\n",
       "    }\n",
       "\n",
       "    .dataframe thead th {\n",
       "        text-align: right;\n",
       "    }\n",
       "</style>\n",
       "<table border=\"1\" class=\"dataframe\">\n",
       "  <thead>\n",
       "    <tr style=\"text-align: right;\">\n",
       "      <th></th>\n",
       "      <th>Best Score</th>\n",
       "      <th>n_estimator</th>\n",
       "    </tr>\n",
       "  </thead>\n",
       "  <tbody>\n",
       "    <tr>\n",
       "      <th>RandomForestClassifier, max_features='log2'</th>\n",
       "      <td>0.950000</td>\n",
       "      <td>71</td>\n",
       "    </tr>\n",
       "    <tr>\n",
       "      <th>RandomForestClassifier, max_features='sqrt'</th>\n",
       "      <td>0.950000</td>\n",
       "      <td>71</td>\n",
       "    </tr>\n",
       "    <tr>\n",
       "      <th>RandomForestClassifier, max_features=None</th>\n",
       "      <td>0.947059</td>\n",
       "      <td>110</td>\n",
       "    </tr>\n",
       "  </tbody>\n",
       "</table>\n",
       "</div>"
      ],
      "text/plain": [
       "                                             Best Score  n_estimator\n",
       "RandomForestClassifier, max_features='log2'    0.950000           71\n",
       "RandomForestClassifier, max_features='sqrt'    0.950000           71\n",
       "RandomForestClassifier, max_features=None      0.947059          110"
      ]
     },
     "execution_count": 66,
     "metadata": {},
     "output_type": "execute_result"
    }
   ],
   "source": [
    "# Generate the \"OOB error rate\" vs. \"n_estimators\" plot.\n",
    "best_rf_parameters = dict()\n",
    "\n",
    "plt.figure(figsize=(15, 8))\n",
    "for label, clf_err in error_rate.items():\n",
    "    # plotting the data\n",
    "    xs, ys = zip(*clf_err)\n",
    "    plt.plot(xs, ys, label=label)\n",
    "    \n",
    "    # getting the best n_estimator per max_feature parameter\n",
    "    best_rf_parameters[label] = (np.array(ys).max(), xs[np.array(ys).argmax()])\n",
    "    \n",
    "plt.xlim(min_estimators, max_estimators)\n",
    "plt.xlabel(\"n_estimators\", fontsize=14)\n",
    "plt.ylabel(\"OOB Accuracy rate\", fontsize=14)\n",
    "plt.legend(loc=\"lower right\", fontsize=14)\n",
    "plt.title('Random Forest Classifier with different n_estimators, max_features parameters', fontsize=16)\n",
    "plt.show()\n",
    "# other info\n",
    "print(f'Time taken: {mins}m{secs}s')\n",
    "pd.DataFrame.from_dict(best_rf_parameters, orient='index', columns=['Best Score', 'n_estimator'])"
   ]
  },
  {
   "cell_type": "markdown",
   "metadata": {},
   "source": [
    "The plot shows that with only using a subset of the features `('log2', 'sqrt')`, we can get better results than using **all the features** and with fewer `n_estimators` or trees.\n",
    "\n",
    "The plot also shows that `('log2','sqrt')` peformed really similar with the number of features we have **21**.\n",
    "\n",
    "Finally, I put the best parameters in Dataframe so I can know the exact number of `n_estimators` performed best."
   ]
  },
  {
   "cell_type": "code",
   "execution_count": 67,
   "metadata": {},
   "outputs": [
    {
     "name": "stdout",
     "output_type": "stream",
     "text": [
      "----- Model Scores -----\n",
      "train score: 0.9994 | valid score: 0.9343\n",
      "precision  : 0.9323 | recall     : 0.9343\n",
      "f1 score   : 0.9319 | balanced   : 0.8503\n"
     ]
    },
    {
     "data": {
      "image/png": "[encoded data removed]",
      "text/plain": [
       "<Figure size 432x288 with 2 Axes>"
      ]
     },
     "metadata": {
      "needs_background": "light"
     },
     "output_type": "display_data"
    }
   ],
   "source": [
    "# testing the model with the new parameters\n",
    "rf = RandomForestClassifier(n_estimators=69, max_features='sqrt', random_state=42)\n",
    "rf = fit_model(rf, x_train, y_train, x_valid, y_valid)"
   ]
  },
  {
   "cell_type": "markdown",
   "metadata": {},
   "source": [
    "Using the **Best Parameters** till now, we got a very minor improve in our normal scores.\n",
    "\n",
    "and our **Balanced score became 85.03%**"
   ]
  },
  {
   "cell_type": "markdown",
   "metadata": {},
   "source": [
    "#### Feature Importance of Random Forest"
   ]
  },
  {
   "cell_type": "code",
   "execution_count": 68,
   "metadata": {},
   "outputs": [
    {
     "data": {
      "image/png": "[encoded data removed]",
      "text/plain": [
       "<Figure size 864x504 with 1 Axes>"
      ]
     },
     "metadata": {
      "needs_background": "light"
     },
     "output_type": "display_data"
    }
   ],
   "source": [
    "fi = rf_feat_importance(rf, df)\n",
    "plot_fi(fi)\n",
    "plt.title('Feature Importance of Random Forest', fontsize=16)\n",
    "plt.xlabel('Importance', fontsize=14)\n",
    "plt.ylabel('Columns', fontsize=14)\n",
    "plt.show()"
   ]
  },
  {
   "cell_type": "code",
   "execution_count": 69,
   "metadata": {},
   "outputs": [
    {
     "data": {
      "text/html": [
       "<div>\n",
       "<style scoped>\n",
       "    .dataframe tbody tr th:only-of-type {\n",
       "        vertical-align: middle;\n",
       "    }\n",
       "\n",
       "    .dataframe tbody tr th {\n",
       "        vertical-align: top;\n",
       "    }\n",
       "\n",
       "    .dataframe thead th {\n",
       "        text-align: right;\n",
       "    }\n",
       "</style>\n",
       "<table border=\"1\" class=\"dataframe\">\n",
       "  <thead>\n",
       "    <tr style=\"text-align: right;\">\n",
       "      <th></th>\n",
       "      <th>cols</th>\n",
       "      <th>imp</th>\n",
       "    </tr>\n",
       "  </thead>\n",
       "  <tbody>\n",
       "    <tr>\n",
       "      <th>8</th>\n",
       "      <td>MSTV</td>\n",
       "      <td>0.133465</td>\n",
       "    </tr>\n",
       "    <tr>\n",
       "      <th>9</th>\n",
       "      <td>ALTV</td>\n",
       "      <td>0.118040</td>\n",
       "    </tr>\n",
       "    <tr>\n",
       "      <th>7</th>\n",
       "      <td>ASTV</td>\n",
       "      <td>0.113124</td>\n",
       "    </tr>\n",
       "    <tr>\n",
       "      <th>17</th>\n",
       "      <td>Mean</td>\n",
       "      <td>0.089455</td>\n",
       "    </tr>\n",
       "    <tr>\n",
       "      <th>16</th>\n",
       "      <td>Mode</td>\n",
       "      <td>0.059604</td>\n",
       "    </tr>\n",
       "    <tr>\n",
       "      <th>1</th>\n",
       "      <td>AC.1</td>\n",
       "      <td>0.059562</td>\n",
       "    </tr>\n",
       "    <tr>\n",
       "      <th>6</th>\n",
       "      <td>DP.1</td>\n",
       "      <td>0.057386</td>\n",
       "    </tr>\n",
       "    <tr>\n",
       "      <th>18</th>\n",
       "      <td>Median</td>\n",
       "      <td>0.054224</td>\n",
       "    </tr>\n",
       "    <tr>\n",
       "      <th>3</th>\n",
       "      <td>UC.1</td>\n",
       "      <td>0.048156</td>\n",
       "    </tr>\n",
       "    <tr>\n",
       "      <th>10</th>\n",
       "      <td>MLTV</td>\n",
       "      <td>0.040806</td>\n",
       "    </tr>\n",
       "    <tr>\n",
       "      <th>0</th>\n",
       "      <td>LB</td>\n",
       "      <td>0.036163</td>\n",
       "    </tr>\n",
       "    <tr>\n",
       "      <th>11</th>\n",
       "      <td>Width</td>\n",
       "      <td>0.036160</td>\n",
       "    </tr>\n",
       "    <tr>\n",
       "      <th>19</th>\n",
       "      <td>Variance</td>\n",
       "      <td>0.036027</td>\n",
       "    </tr>\n",
       "    <tr>\n",
       "      <th>12</th>\n",
       "      <td>Min</td>\n",
       "      <td>0.029118</td>\n",
       "    </tr>\n",
       "    <tr>\n",
       "      <th>13</th>\n",
       "      <td>Max</td>\n",
       "      <td>0.027658</td>\n",
       "    </tr>\n",
       "    <tr>\n",
       "      <th>2</th>\n",
       "      <td>FM.1</td>\n",
       "      <td>0.022460</td>\n",
       "    </tr>\n",
       "    <tr>\n",
       "      <th>14</th>\n",
       "      <td>Nmax</td>\n",
       "      <td>0.017728</td>\n",
       "    </tr>\n",
       "    <tr>\n",
       "      <th>4</th>\n",
       "      <td>DL.1</td>\n",
       "      <td>0.009060</td>\n",
       "    </tr>\n",
       "    <tr>\n",
       "      <th>20</th>\n",
       "      <td>Tendency</td>\n",
       "      <td>0.007234</td>\n",
       "    </tr>\n",
       "  </tbody>\n",
       "</table>\n",
       "</div>"
      ],
      "text/plain": [
       "        cols       imp\n",
       "8       MSTV  0.133465\n",
       "9       ALTV  0.118040\n",
       "7       ASTV  0.113124\n",
       "17      Mean  0.089455\n",
       "16      Mode  0.059604\n",
       "1       AC.1  0.059562\n",
       "6       DP.1  0.057386\n",
       "18    Median  0.054224\n",
       "3       UC.1  0.048156\n",
       "10      MLTV  0.040806\n",
       "0         LB  0.036163\n",
       "11     Width  0.036160\n",
       "19  Variance  0.036027\n",
       "12       Min  0.029118\n",
       "13       Max  0.027658\n",
       "2       FM.1  0.022460\n",
       "14      Nmax  0.017728\n",
       "4       DL.1  0.009060\n",
       "20  Tendency  0.007234"
      ]
     },
     "execution_count": 69,
     "metadata": {},
     "output_type": "execute_result"
    }
   ],
   "source": [
    "# features with imp > 0.005\n",
    "fi[fi.imp>0.005]"
   ]
  },
  {
   "cell_type": "markdown",
   "metadata": {},
   "source": [
    "The plot shows the **importance(influence)** of each feature on the decision making of RandomForest.\n",
    "\n",
    "This is considered to be **better than the Correlation matrix**, as the Correlation matrix only shows the **linear correlations** while The feature importance shows **linear and non-linear**."
   ]
  },
  {
   "cell_type": "markdown",
   "metadata": {},
   "source": [
    "#### Removing Low Importance Features"
   ]
  },
  {
   "cell_type": "code",
   "execution_count": 70,
   "metadata": {},
   "outputs": [],
   "source": [
    "# keeping features with importance higher than 0.01\n",
    "keep_cols = fi[fi.imp>0.005].cols.to_numpy()\n",
    "\n",
    "# Adding the Target Column\n",
    "keep_cols = np.append(keep_cols, ['NSP'])"
   ]
  },
  {
   "cell_type": "code",
   "execution_count": 71,
   "metadata": {},
   "outputs": [
    {
     "name": "stdout",
     "output_type": "stream",
     "text": [
      "----- Data Splits Summary -----\n",
      "train size: 1700 | valid size: 426\n",
      "\n",
      "Percentage of classes in the train dataset:\n",
      "Class 1.0: 0.778\n",
      "Class 2.0: 0.139\n",
      "Class 3.0: 0.083\n",
      "\n",
      "Percentage of classes in the valid dataset:\n",
      "Class 1.0: 0.779\n",
      "Class 2.0: 0.138\n",
      "Class 3.0: 0.082\n"
     ]
    }
   ],
   "source": [
    "# getting the new splits\n",
    "new_df = df[keep_cols]\n",
    "x_train, y_train, x_valid, y_valid = prepare_df(new_df)"
   ]
  },
  {
   "cell_type": "code",
   "execution_count": 72,
   "metadata": {},
   "outputs": [
    {
     "name": "stdout",
     "output_type": "stream",
     "text": [
      "----- Model Scores -----\n",
      "train score: 0.9994 | valid score: 0.9343\n",
      "precision  : 0.9320 | recall     : 0.9343\n",
      "f1 score   : 0.9324 | balanced   : 0.8550\n"
     ]
    },
    {
     "data": {
      "image/png": "[encoded data removed]",
      "text/plain": [
       "<Figure size 432x288 with 2 Axes>"
      ]
     },
     "metadata": {
      "needs_background": "light"
     },
     "output_type": "display_data"
    }
   ],
   "source": [
    "# The model after removing non-important features\n",
    "rf = RandomForestClassifier(n_estimators=69, max_features='sqrt', random_state=42)\n",
    "rf = fit_model(rf, x_train, y_train, x_valid, y_valid)"
   ]
  },
  {
   "cell_type": "markdown",
   "metadata": {},
   "source": [
    "After removing the features with the lowest importance, the scores are mostly the same. But we got a **slightly lower precision score** but that is a good thing as we got less **Suspect** items missclassified as **Normal**\n",
    "\n",
    "And our **Balanced Score became 85.5%** up by 1.5% from the original score"
   ]
  },
  {
   "cell_type": "markdown",
   "metadata": {},
   "source": [
    "#### Learning Curves for Random Forest Classifier "
   ]
  },
  {
   "cell_type": "code",
   "execution_count": 73,
   "metadata": {},
   "outputs": [],
   "source": [
    "train_pcts = np.arange(.1, 1.1, .1)\n",
    "_, train_scores_rf, valid_scores_rf, *_ = learning_curve(rf, x_train, y_train, train_sizes=train_pcts)"
   ]
  },
  {
   "cell_type": "code",
   "execution_count": 74,
   "metadata": {
    "scrolled": true
   },
   "outputs": [
    {
     "data": {
      "image/png": "[encoded data removed]",
      "text/plain": [
       "<Figure size 432x288 with 1 Axes>"
      ]
     },
     "metadata": {
      "needs_background": "light"
     },
     "output_type": "display_data"
    }
   ],
   "source": [
    "plt.plot(train_pcts, train_scores_rf.mean(axis=1), 'o-')\n",
    "plt.plot(train_pcts, valid_scores_rf.mean(axis=1), 'o-')\n",
    "plt.title('Learning Curves', fontsize=14)\n",
    "plt.legend(['Training Scores', 'Cross-Validation scores'])\n",
    "plt.xlabel('Training set size %')\n",
    "plt.ylabel('Accuracy')\n",
    "plt.show()"
   ]
  },
  {
   "cell_type": "markdown",
   "metadata": {},
   "source": [
    "**Adding more data** helped the model **better generalize to the validation set.**"
   ]
  },
  {
   "cell_type": "markdown",
   "metadata": {},
   "source": [
    "###  KNearstNeighbours Classifier"
   ]
  },
  {
   "cell_type": "code",
   "execution_count": 75,
   "metadata": {},
   "outputs": [
    {
     "name": "stdout",
     "output_type": "stream",
     "text": [
      "----- Data Splits Summary -----\n",
      "train size: 1700 | valid size: 426\n",
      "\n",
      "Percentage of classes in the train dataset:\n",
      "Class 1.0: 0.778\n",
      "Class 2.0: 0.139\n",
      "Class 3.0: 0.083\n",
      "\n",
      "Percentage of classes in the valid dataset:\n",
      "Class 1.0: 0.779\n",
      "Class 2.0: 0.138\n",
      "Class 3.0: 0.082\n"
     ]
    }
   ],
   "source": [
    "# get the data splits before removing any feature\n",
    "x_train, y_train, x_valid, y_valid = prepare_df(df)"
   ]
  },
  {
   "cell_type": "code",
   "execution_count": 76,
   "metadata": {},
   "outputs": [
    {
     "name": "stdout",
     "output_type": "stream",
     "text": [
      "----- Model Scores -----\n",
      "train score: 0.9371 | valid score: 0.8709\n",
      "precision  : 0.8626 | recall     : 0.8709\n",
      "f1 score   : 0.8640 | balanced   : 0.7032\n"
     ]
    },
    {
     "data": {
      "image/png": "[encoded data removed]",
      "text/plain": [
       "<Figure size 432x288 with 2 Axes>"
      ]
     },
     "metadata": {
      "needs_background": "light"
     },
     "output_type": "display_data"
    }
   ],
   "source": [
    "# The default model \n",
    "knn = KNeighborsClassifier()\n",
    "knn = fit_model(knn, x_train, y_train, x_valid, y_valid)"
   ]
  },
  {
   "cell_type": "markdown",
   "metadata": {},
   "source": [
    "The results are **worse than Random Forest**"
   ]
  },
  {
   "cell_type": "markdown",
   "metadata": {},
   "source": [
    "#### Finiding the best `n_neighbors` parameter"
   ]
  },
  {
   "cell_type": "code",
   "execution_count": 77,
   "metadata": {},
   "outputs": [
    {
     "data": {
      "image/png": "[encoded data removed]",
      "text/plain": [
       "<Figure size 1080x576 with 1 Axes>"
      ]
     },
     "metadata": {
      "needs_background": "light"
     },
     "output_type": "display_data"
    }
   ],
   "source": [
    "knn_scores = []\n",
    "for i in range(1, 11):\n",
    "    knn = KNeighborsClassifier(n_neighbors=i, n_jobs=-1)\n",
    "    knn.fit(x_train, y_train)\n",
    "    y_pred = knn.predict(x_valid)\n",
    "    knn_scores.append(balanced_accuracy_score(y_valid, y_pred))\n",
    "\n",
    "plt.figure(figsize=(15, 8))\n",
    "plt.plot(range(1, 11), knn_scores, 'o-')\n",
    "plt.xlim(1, 10)\n",
    "plt.ylabel('Balanced Score')\n",
    "plt.xlabel('Number of Neighbors')\n",
    "plt.title('K Nearest Neighbors with different n_neighbors parameter', fontsize=16)\n",
    "plt.legend(['Validation Score'])\n",
    "plt.show()"
   ]
  },
  {
   "cell_type": "markdown",
   "metadata": {},
   "source": [
    "\n",
    "According to the plot the **best `n_neighbors` parameter is 1** so We will be using it."
   ]
  },
  {
   "cell_type": "code",
   "execution_count": 78,
   "metadata": {},
   "outputs": [
    {
     "name": "stdout",
     "output_type": "stream",
     "text": [
      "----- Model Scores -----\n",
      "train score: 0.9994 | valid score: 0.8967\n",
      "precision  : 0.8980 | recall     : 0.8967\n",
      "f1 score   : 0.8972 | balanced   : 0.8040\n"
     ]
    },
    {
     "data": {
      "image/png": "[encoded data removed]",
      "text/plain": [
       "<Figure size 432x288 with 2 Axes>"
      ]
     },
     "metadata": {
      "needs_background": "light"
     },
     "output_type": "display_data"
    }
   ],
   "source": [
    "# using KNN with the best parameter\n",
    "knn = KNeighborsClassifier(n_neighbors=1)\n",
    "knn = fit_model(knn, x_train, y_train, x_valid, y_valid)"
   ]
  },
  {
   "cell_type": "markdown",
   "metadata": {},
   "source": [
    "Using `n_neighbors=1` made a big improvement to our mode. **Valid Score: 87% -> 89.6**, **Balanced Score: 70.32% -> 80.4%**.\n",
    "\n",
    "Now it is a little bit**closer to** the results of the **Random Forest**"
   ]
  },
  {
   "cell_type": "code",
   "execution_count": 79,
   "metadata": {},
   "outputs": [
    {
     "name": "stdout",
     "output_type": "stream",
     "text": [
      "----- Model Scores -----\n",
      "train score: 0.9994 | valid score: 0.9061\n",
      "precision  : 0.9075 | recall     : 0.9061\n",
      "f1 score   : 0.9066 | balanced   : 0.8212\n"
     ]
    },
    {
     "data": {
      "image/png": "[encoded data removed]",
      "text/plain": [
       "<Figure size 432x288 with 2 Axes>"
      ]
     },
     "metadata": {
      "needs_background": "light"
     },
     "output_type": "display_data"
    }
   ],
   "source": [
    "# using the KNN with the new df after removing less important features according to Random Forest\n",
    "# getting the data\n",
    "x_train, y_train, x_valid, y_valid = prepare_df(new_df, verbose=False)\n",
    "# Running KNN\n",
    "knn = KNeighborsClassifier(n_neighbors=1)\n",
    "knn = fit_model(knn, x_train, y_train, x_valid, y_valid)"
   ]
  },
  {
   "cell_type": "markdown",
   "metadata": {},
   "source": [
    "Removing the lower importance features according to Random Forest improves the results\n",
    "**Balanced score: 80.4% -> 82.12%**"
   ]
  },
  {
   "cell_type": "markdown",
   "metadata": {},
   "source": [
    "#### Learning Curve for K Nearest Neighbors "
   ]
  },
  {
   "cell_type": "code",
   "execution_count": 80,
   "metadata": {},
   "outputs": [],
   "source": [
    "# getting the new data set\n",
    "x_train, y_train, x_valid, y_valid = prepare_df(new_df, verbose=False)"
   ]
  },
  {
   "cell_type": "code",
   "execution_count": 81,
   "metadata": {},
   "outputs": [
    {
     "data": {
      "image/png": "[encoded data removed]",
      "text/plain": [
       "<Figure size 432x288 with 1 Axes>"
      ]
     },
     "metadata": {
      "needs_background": "light"
     },
     "output_type": "display_data"
    }
   ],
   "source": [
    "_, train_scores_knn, valid_scores_knn, *_ = learning_curve(knn, x_train, y_train, train_sizes=train_pcts)\n",
    "\n",
    "plt.plot(train_pcts, train_scores_knn.mean(axis=1), 'o-')\n",
    "plt.plot(train_pcts, valid_scores_knn.mean(axis=1), 'o-')\n",
    "plt.title('Learning Curves', fontsize=14)\n",
    "plt.legend(['Training Scores', 'Cross-Validation scores'])\n",
    "plt.xlabel('Training set size %')\n",
    "plt.ylabel('Accuracy')\n",
    "plt.show()"
   ]
  },
  {
   "cell_type": "markdown",
   "metadata": {},
   "source": [
    "Same as for Random Forest, Adding more data helps the model better generalize"
   ]
  },
  {
   "cell_type": "markdown",
   "metadata": {},
   "source": [
    "### Support Vector Machine "
   ]
  },
  {
   "cell_type": "code",
   "execution_count": 82,
   "metadata": {},
   "outputs": [
    {
     "name": "stdout",
     "output_type": "stream",
     "text": [
      "----- Data Splits Summary -----\n",
      "train size: 1700 | valid size: 426\n",
      "\n",
      "Percentage of classes in the train dataset:\n",
      "Class 1.0: 0.778\n",
      "Class 2.0: 0.139\n",
      "Class 3.0: 0.083\n",
      "\n",
      "Percentage of classes in the valid dataset:\n",
      "Class 1.0: 0.779\n",
      "Class 2.0: 0.138\n",
      "Class 3.0: 0.082\n"
     ]
    }
   ],
   "source": [
    "# get the data splits before removing any feature\n",
    "x_train, y_train, x_valid, y_valid = prepare_df(df)"
   ]
  },
  {
   "cell_type": "code",
   "execution_count": 83,
   "metadata": {},
   "outputs": [
    {
     "name": "stdout",
     "output_type": "stream",
     "text": [
      "----- Model Scores -----\n",
      "train score: 0.9365 | valid score: 0.8944\n",
      "precision  : 0.8879 | recall     : 0.8944\n",
      "f1 score   : 0.8899 | balanced   : 0.7535\n"
     ]
    },
    {
     "data": {
      "image/png": "[encoded data removed]",
      "text/plain": [
       "<Figure size 432x288 with 2 Axes>"
      ]
     },
     "metadata": {
      "needs_background": "light"
     },
     "output_type": "display_data"
    }
   ],
   "source": [
    "# The default model\n",
    "svc = SVC()\n",
    "svc = fit_model(svc, x_train, y_train, x_valid, y_valid)"
   ]
  },
  {
   "cell_type": "markdown",
   "metadata": {},
   "source": [
    "The results are **worse** than both **Random Forest** and the best **KNN** we have"
   ]
  },
  {
   "cell_type": "markdown",
   "metadata": {},
   "source": [
    "#### Finding the Best `Kernel` "
   ]
  },
  {
   "cell_type": "code",
   "execution_count": 84,
   "metadata": {},
   "outputs": [
    {
     "data": {
      "image/png": "[encoded data removed]",
      "text/plain": [
       "<Figure size 864x432 with 1 Axes>"
      ]
     },
     "metadata": {
      "needs_background": "light"
     },
     "output_type": "display_data"
    }
   ],
   "source": [
    "svc_scores = []\n",
    "kernels = [\"linear\", \"poly\", \"rbf\", \"sigmoid\"]\n",
    "\n",
    "for i in kernels:\n",
    "    svc = SVC(kernel=i)\n",
    "    svc.fit(x_train, y_train)\n",
    "    y_pred = svc.predict(x_valid)\n",
    "    svc_scores.append(balanced_accuracy_score(y_valid, y_pred))\n",
    "    \n",
    "plt.figure(figsize=(12,6))\n",
    "plt.bar(kernels, svc_scores)\n",
    "plt.title('K Nearest Neighbors with different n_neighbors parameter', fontsize=16)\n",
    "plt.legend(['Validation Score'])\n",
    "plt.ylabel('Balanced Accuracy')\n",
    "plt.ylim(0, 0.90)\n",
    "plt.show()"
   ]
  },
  {
   "cell_type": "code",
   "execution_count": 85,
   "metadata": {},
   "outputs": [
    {
     "name": "stdout",
     "output_type": "stream",
     "text": [
      "----- Model Scores -----\n",
      "train score: 0.9135 | valid score: 0.8897\n",
      "precision  : 0.8953 | recall     : 0.8897\n",
      "f1 score   : 0.8907 | balanced   : 0.7716\n"
     ]
    },
    {
     "data": {
      "image/png": "[encoded data removed]",
      "text/plain": [
       "<Figure size 432x288 with 2 Axes>"
      ]
     },
     "metadata": {
      "needs_background": "light"
     },
     "output_type": "display_data"
    }
   ],
   "source": [
    "# using SVC with the best kernel\n",
    "svc = SVC(kernel='linear')\n",
    "svc = fit_model(svc, x_train, y_train, x_valid, y_valid)"
   ]
  },
  {
   "cell_type": "markdown",
   "metadata": {},
   "source": [
    "Using the **`linear` kernel produces slightly better** results (balanced) but it is still **worse** than **Random Forest** and **KNN**"
   ]
  },
  {
   "cell_type": "code",
   "execution_count": 86,
   "metadata": {},
   "outputs": [
    {
     "name": "stdout",
     "output_type": "stream",
     "text": [
      "----- Model Scores -----\n",
      "train score: 0.9088 | valid score: 0.8920\n",
      "precision  : 0.8979 | recall     : 0.8920\n",
      "f1 score   : 0.8934 | balanced   : 0.7811\n"
     ]
    },
    {
     "data": {
      "image/png": "[encoded data removed]",
      "text/plain": [
       "<Figure size 432x288 with 2 Axes>"
      ]
     },
     "metadata": {
      "needs_background": "light"
     },
     "output_type": "display_data"
    }
   ],
   "source": [
    "# using the SVC with the new df after removing less important features according to Random Forest\n",
    "# getting the data\n",
    "x_train, y_train, x_valid, y_valid = prepare_df(new_df, verbose=False)\n",
    "# Running SVC\n",
    "svc = SVC(kernel='linear')\n",
    "svc = fit_model(svc, x_train, y_train, x_valid, y_valid)"
   ]
  },
  {
   "cell_type": "markdown",
   "metadata": {},
   "source": [
    "**No noticble improvement**"
   ]
  },
  {
   "cell_type": "markdown",
   "metadata": {},
   "source": [
    "#### Learning Curves for Support Vector Machine Classifier "
   ]
  },
  {
   "cell_type": "code",
   "execution_count": 87,
   "metadata": {},
   "outputs": [],
   "source": [
    "# getting the full dataset as the new dataset didn't make a difference\n",
    "x_train, y_train, x_valid, y_valid = prepare_df(df, verbose=False)"
   ]
  },
  {
   "cell_type": "code",
   "execution_count": 88,
   "metadata": {},
   "outputs": [
    {
     "data": {
      "image/png": "[encoded data removed]",
      "text/plain": [
       "<Figure size 432x288 with 1 Axes>"
      ]
     },
     "metadata": {
      "needs_background": "light"
     },
     "output_type": "display_data"
    }
   ],
   "source": [
    "_, train_scores_svc, valid_scores_svc, *_ = learning_curve(svc, x_train, y_train, train_sizes=train_pcts)\n",
    "\n",
    "plt.plot(train_pcts, train_scores_svc.mean(axis=1), 'o-')\n",
    "plt.plot(train_pcts, valid_scores_svc.mean(axis=1), 'o-')\n",
    "plt.title('Learning Curves', fontsize=14)\n",
    "plt.legend(['Training Scores', 'Cross-Validation scores'])\n",
    "plt.xlabel('Training set size %')\n",
    "plt.ylabel('Accuracy')\n",
    "plt.show()"
   ]
  },
  {
   "cell_type": "markdown",
   "metadata": {},
   "source": [
    "**Training scores goes down** as we increase the training size as the model is not learning enough and the accumulated mistakes worsen the score.\n",
    "\n",
    "**Validation scores goes up** up to certain point and the model fails to understand the data, the score goes down as it fails to predict the new data correctly "
   ]
  },
  {
   "cell_type": "markdown",
   "metadata": {},
   "source": [
    "### Comparing all models side by side"
   ]
  },
  {
   "cell_type": "markdown",
   "metadata": {},
   "source": [
    "#### Learning Curves "
   ]
  },
  {
   "cell_type": "code",
   "execution_count": 89,
   "metadata": {},
   "outputs": [
    {
     "data": {
      "image/png": "[encoded data removed]",
      "text/plain": [
       "<Figure size 1440x360 with 3 Axes>"
      ]
     },
     "metadata": {
      "needs_background": "light"
     },
     "output_type": "display_data"
    }
   ],
   "source": [
    "fig, axes = plt.subplots(1, 3, figsize=(20, 5))\n",
    "fig.suptitle('Learning Curves', fontsize=18)\n",
    "\n",
    "# RF\n",
    "axes[0].plot(train_pcts, train_scores_rf.mean(axis=1), 'o-')\n",
    "axes[0].plot(train_pcts, valid_scores_rf.mean(axis=1), 'o-')\n",
    "axes[0].legend(['Training Scores', 'Cross-Validation scores'], loc='lower right')\n",
    "axes[0].set_title('RF', fontsize=14)\n",
    "axes[0].set_ylabel('Accuracy Score', fontsize=14)\n",
    "\n",
    "#KNN\n",
    "axes[1].plot(train_pcts, train_scores_knn.mean(axis=1), 'o-')\n",
    "axes[1].plot(train_pcts, valid_scores_knn.mean(axis=1), 'o-')\n",
    "axes[1].legend(['Training Scores', 'Cross-Validation scores'], loc='lower right')\n",
    "axes[1].set_title('KNN', fontsize=14)\n",
    "axes[1].set_xlabel('Training set size %', fontsize=14)\n",
    "\n",
    "# SVR\n",
    "axes[2].plot(train_pcts, train_scores_svc.mean(axis=1), 'o-')\n",
    "axes[2].plot(train_pcts, valid_scores_svc.mean(axis=1), 'o-')\n",
    "axes[2].legend(['Training Scores', 'Cross-Validation scores'], loc='lower right')\n",
    "axes[2].set_title('SVC', fontsize=14)\n",
    "plt.show()"
   ]
  },
  {
   "cell_type": "markdown",
   "metadata": {},
   "source": [
    "#### Accuracy "
   ]
  },
  {
   "cell_type": "code",
   "execution_count": 90,
   "metadata": {},
   "outputs": [],
   "source": [
    "# get the new data\n",
    "x_train, y_train, x_valid, y_valid = prepare_df(new_df, verbose=False)"
   ]
  },
  {
   "cell_type": "markdown",
   "metadata": {},
   "source": [
    "train_score, valid_score, balanced, precision, recall, f1"
   ]
  },
  {
   "cell_type": "code",
   "execution_count": 91,
   "metadata": {},
   "outputs": [],
   "source": [
    "# Best scores from the models\n",
    "# RF\n",
    "rf = RandomForestClassifier(n_estimators=69, max_features='sqrt', random_state=42)\n",
    "rf_train, rf_valid, rf_balanced, rf_precision, rf_recall, rf_f1 = fit_model(rf, x_train, y_train, x_valid, y_valid, return_scores=True)\n",
    "\n",
    "# KNN\n",
    "knn = KNeighborsClassifier(n_neighbors=1)\n",
    "knn_train, knn_valid, knn_balanced, knn_precision, knn_recall, knn_f1 = fit_model(knn, x_train, y_train, x_valid, y_valid, return_scores=True)\n",
    "\n",
    "# SVC\n",
    "svc = SVC(kernel='linear')\n",
    "svc_train, svc_valid, svc_balanced, svc_precision, svc_recall, svc_f1 = fit_model(svc, x_train, y_train, x_valid, y_valid, return_scores=True)"
   ]
  },
  {
   "cell_type": "code",
   "execution_count": 92,
   "metadata": {},
   "outputs": [
    {
     "data": {
      "text/html": [
       "<div>\n",
       "<style scoped>\n",
       "    .dataframe tbody tr th:only-of-type {\n",
       "        vertical-align: middle;\n",
       "    }\n",
       "\n",
       "    .dataframe tbody tr th {\n",
       "        vertical-align: top;\n",
       "    }\n",
       "\n",
       "    .dataframe thead th {\n",
       "        text-align: right;\n",
       "    }\n",
       "</style>\n",
       "<table border=\"1\" class=\"dataframe\">\n",
       "  <thead>\n",
       "    <tr style=\"text-align: right;\">\n",
       "      <th></th>\n",
       "      <th>Model</th>\n",
       "      <th>Train Accuracy</th>\n",
       "      <th>Valid Accuracy</th>\n",
       "      <th>Balanced</th>\n",
       "      <th>Precision</th>\n",
       "      <th>Recall</th>\n",
       "      <th>F1</th>\n",
       "    </tr>\n",
       "  </thead>\n",
       "  <tbody>\n",
       "    <tr>\n",
       "      <th>0</th>\n",
       "      <td>RF</td>\n",
       "      <td>0.999412</td>\n",
       "      <td>0.934272</td>\n",
       "      <td>0.854957</td>\n",
       "      <td>0.932042</td>\n",
       "      <td>0.934272</td>\n",
       "      <td>0.932432</td>\n",
       "    </tr>\n",
       "    <tr>\n",
       "      <th>1</th>\n",
       "      <td>KNN</td>\n",
       "      <td>0.999412</td>\n",
       "      <td>0.906103</td>\n",
       "      <td>0.821224</td>\n",
       "      <td>0.907495</td>\n",
       "      <td>0.906103</td>\n",
       "      <td>0.906602</td>\n",
       "    </tr>\n",
       "    <tr>\n",
       "      <th>2</th>\n",
       "      <td>SVC</td>\n",
       "      <td>0.908824</td>\n",
       "      <td>0.892019</td>\n",
       "      <td>0.781121</td>\n",
       "      <td>0.897890</td>\n",
       "      <td>0.892019</td>\n",
       "      <td>0.893413</td>\n",
       "    </tr>\n",
       "  </tbody>\n",
       "</table>\n",
       "</div>"
      ],
      "text/plain": [
       "  Model  Train Accuracy  Valid Accuracy  Balanced  Precision    Recall  \\\n",
       "0    RF        0.999412        0.934272  0.854957   0.932042  0.934272   \n",
       "1   KNN        0.999412        0.906103  0.821224   0.907495  0.906103   \n",
       "2   SVC        0.908824        0.892019  0.781121   0.897890  0.892019   \n",
       "\n",
       "         F1  \n",
       "0  0.932432  \n",
       "1  0.906602  \n",
       "2  0.893413  "
      ]
     },
     "execution_count": 92,
     "metadata": {},
     "output_type": "execute_result"
    }
   ],
   "source": [
    "models_performance = pd.DataFrame({\n",
    "    'Model': ['RF', 'KNN', 'SVC'],\n",
    "    'Train Accuracy': [rf_train, knn_train, svc_train],\n",
    "    'Valid Accuracy': [rf_valid, knn_valid, svc_valid],\n",
    "    'Balanced': [rf_balanced, knn_balanced, svc_balanced],\n",
    "    'Precision': [rf_precision, knn_precision, svc_precision],\n",
    "    'Recall': [rf_recall, knn_recall, svc_recall], \n",
    "    'F1': [rf_f1, knn_f1, svc_f1]\n",
    "})\n",
    "\n",
    "models_performance"
   ]
  },
  {
   "cell_type": "markdown",
   "metadata": {},
   "source": [
    "\n",
    "#### Final Comment\n"
   ]
  },
  {
   "cell_type": "markdown",
   "metadata": {},
   "source": [
    "As we saw RF had the best overall scores and KNN was in the second place. As the data was unbalanced our models preferred to misclassify some data as the first (more dominating class) in normal cases this could be a real representation of the actual data as CTGs would be normal most of the time but we could never deploy a system that prefers the normal CTGs.  \n",
    "\n",
    "If we would to deploy this model, we would change the decision-making threshold of the best model to make it have a way higher recall and a lower precision, we need the model to predict more instances as [Suspect, Pathologic] so these could be reviewed by actually human experts to reexamine them. If we did not make this modification and put a human pipeline the system could predict some instances as normal although they had a slight chance to be [Suspect or Pathologic] this could lead to dangerous consequences and could put people's lives into danger. "
   ]
  }
 ],
 "metadata": {
  "kernelspec": {
   "display_name": "Python 3",
   "language": "python",
   "name": "python3"
  },
  "language_info": {
   "codemirror_mode": {
    "name": "ipython",
    "version": 3
   },
   "file_extension": ".py",
   "mimetype": "text/x-python",
   "name": "python",
   "nbconvert_exporter": "python",
   "pygments_lexer": "ipython3",
   "version": "3.7.6"
  }
 },
 "nbformat": 4,
 "nbformat_minor": 4
}
